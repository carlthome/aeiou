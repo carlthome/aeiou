{
 "cells": [
  {
   "cell_type": "code",
   "execution_count": null,
   "id": "8fe09744",
   "metadata": {},
   "outputs": [],
   "source": [
    "%load_ext autoreload\n",
    "%autoreload 2"
   ]
  },
  {
   "cell_type": "code",
   "execution_count": null,
   "id": "b703b37d",
   "metadata": {},
   "outputs": [],
   "source": [
    "#| default_exp datasets"
   ]
  },
  {
   "cell_type": "markdown",
   "id": "11b778b6",
   "metadata": {},
   "source": [
    "# datasets\n",
    "> Routines for loading/handling datasets"
   ]
  },
  {
   "cell_type": "markdown",
   "id": "a9414fc4",
   "metadata": {},
   "source": [
    "(Many of these routines originally appeared in \"audio-diffusion\" repo by Zach Evans w/ contributions by Scott Hawley https://github.com/zqevans/audio-diffusion/blob/main/diffusion/utils.py but have since been modified.)"
   ]
  },
  {
   "cell_type": "code",
   "execution_count": null,
   "id": "9a097942",
   "metadata": {},
   "outputs": [],
   "source": [
    "#|hide\n",
    "from nbdev.showdoc import *"
   ]
  },
  {
   "cell_type": "code",
   "execution_count": null,
   "id": "cb91a8ee",
   "metadata": {},
   "outputs": [],
   "source": [
    "#|export\n",
    "from __future__ import annotations  # for type hints, in LAION code samples\n",
    "import numpy as np \n",
    "import torch\n",
    "import torch.nn as nn\n",
    "import torchaudio\n",
    "from torchaudio import transforms as T\n",
    "from torchvision import transforms as VT\n",
    "import random\n",
    "import os\n",
    "import json\n",
    "import tqdm\n",
    "from multiprocessing import Pool, cpu_count\n",
    "from functools import partial\n",
    "from aeiou.core import load_audio, get_audio_filenames, is_silence, untuple\n",
    "from aeiou.viz import playable_spectrogram\n",
    "from fastcore.utils import *\n",
    "import webdataset as wds\n",
    "import subprocess\n",
    "import re"
   ]
  },
  {
   "cell_type": "markdown",
   "id": "d79380ec",
   "metadata": {},
   "source": [
    "## Augmentation routines\n",
    "\n",
    "These support 'pipelining' in the sense of \n",
    "\n",
    "```python\n",
    "        self.augs = eval(f'torch.nn.Sequential( {augs} )')  \n",
    "```\n",
    "(see `AudioDataset` below for sample invocation), to wit: they try to return a similar datatype to what was passed in to `.forward()`, be it `torch.Tensor` or `dict`. \n",
    "\n",
    "\n",
    "### Dict pipeline usage\n",
    "> \"Get a dict, give a dict\" is the incredibly awkward but amazingly accurate summary of this policy.\n",
    "\n",
    "Some routines may add additional info to a returned dict, if possible.  \n",
    "\n",
    "Reserved keys:\n",
    "\n",
    "* **\"inputs\"**: used *both* for the input *and* the output of the routine, i.e. **\"inputs\" gets *overwritten***, i.e. **obliterated**, i.e. such operations are **in-place**.   If you want to store an unaltered archival copy on an input for later use, then create a new `dict` key (and maybe even use `.clone()`). \n"
   ]
  },
  {
   "cell_type": "markdown",
   "id": "88c0c964",
   "metadata": {},
   "source": [
    "For the dict-enabled pipeline, a lot of the `return` operations will be the same, so..."
   ]
  },
  {
   "cell_type": "code",
   "execution_count": null,
   "id": "39359399",
   "metadata": {},
   "outputs": [],
   "source": [
    "#|export  \n",
    "def pipeline_return(\n",
    "    val,           # value to be returned (by calling function)\n",
    "    x,             # original data-container that was passed in (tensor or dict)\n",
    "    key='inputs',  # if x is dict, this key gets overwritten/added\n",
    "    ):\n",
    "    \"little helper routine that appears at end of most augmentations, to compress code\"\n",
    "    if not isinstance(x, dict):\n",
    "        return val\n",
    "    else:\n",
    "        x[key] = val\n",
    "        return x"
   ]
  },
  {
   "cell_type": "code",
   "execution_count": null,
   "id": "729bf650",
   "metadata": {},
   "outputs": [],
   "source": [
    "#|export    \n",
    "class RandomGain(nn.Module):\n",
    "    \"apply a random gain to audio\"\n",
    "    def __init__(self, min_gain, max_gain):\n",
    "        super().__init__()\n",
    "        self.min_gain = min_gain\n",
    "        self.max_gain = max_gain\n",
    "\n",
    "    def __call__(self, x):\n",
    "        signal = x if not isinstance(x, dict) else x['inputs']\n",
    "        gain = random.uniform(self.min_gain, self.max_gain)\n",
    "        signal = signal * gain\n",
    "        return pipeline_return(signal, x)"
   ]
  },
  {
   "cell_type": "markdown",
   "id": "89001f60",
   "metadata": {},
   "source": [
    "Testing `RandomGain`: "
   ]
  },
  {
   "cell_type": "code",
   "execution_count": null,
   "id": "bd6904cb",
   "metadata": {},
   "outputs": [
    {
     "name": "stdout",
     "output_type": "stream",
     "text": [
      "audio = tensor([0.1098, 0.2792, 0.9724, 0.3774, 0.4383, 0.2728, 0.4227, 0.0287])\n",
      "audio NOT OVERWRITTEN = tensor([0.1098, 0.2792, 0.9724, 0.3774, 0.4383, 0.2728, 0.4227, 0.0287])\n",
      "audio2 = tensor([0.0589, 0.1499, 0.5221, 0.2026, 0.2354, 0.1465, 0.2270, 0.0154])\n",
      "\n"
     ]
    }
   ],
   "source": [
    "audio = torch.rand(8)\n",
    "print(f\"audio = {audio}\")\n",
    "gain_op = RandomGain(-2.0,2.0)\n",
    "audio2 = gain_op(audio)  # audio does not get overwritten\n",
    "print(f\"audio NOT OVERWRITTEN = {audio}\\naudio2 = {audio2}\\n\")"
   ]
  },
  {
   "cell_type": "markdown",
   "id": "bf21a17e",
   "metadata": {},
   "source": [
    "Note how, with the `dict` version of the pipeline, the `inputs` element of the dict gets overwritten:"
   ]
  },
  {
   "cell_type": "code",
   "execution_count": null,
   "id": "cf88d296",
   "metadata": {},
   "outputs": [
    {
     "name": "stdout",
     "output_type": "stream",
     "text": [
      "x['inputs'] = tensor([0.1098, 0.2792, 0.9724, 0.3774, 0.4383, 0.2728, 0.4227, 0.0287])\n",
      "audio NOT OVERWRITTEN = tensor([0.1098, 0.2792, 0.9724, 0.3774, 0.4383, 0.2728, 0.4227, 0.0287])\n",
      "x['inputs'] OVERWRITTEN = tensor([-0.0735, -0.1870, -0.6514, -0.2528, -0.2936, -0.1828, -0.2832, -0.0192]) \n",
      "audio2 = {'inputs': tensor([-0.0735, -0.1870, -0.6514, -0.2528, -0.2936, -0.1828, -0.2832, -0.0192])}\n",
      "\n",
      "audio2['inputs'] == x['inputs']: True, i.e. x['inputs'] was overwritten\n"
     ]
    }
   ],
   "source": [
    "x = {'inputs':audio}\n",
    "print(f\"x['inputs'] = {x['inputs']}\")\n",
    "audio2 = gain_op(x)  # x['inputs'] gets overwritten but audio does not\n",
    "print(f\"audio NOT OVERWRITTEN = {audio}\\nx['inputs'] OVERWRITTEN = {x['inputs']} \")\n",
    "print(f\"audio2 = {audio2}\")\n",
    "assert torch.equal(audio2['inputs'], x['inputs']), \"Oh no.  NO idea what's going on\"\n",
    "print(\"\\naudio2['inputs'] == x['inputs']: True, i.e. x['inputs'] was overwritten\")"
   ]
  },
  {
   "cell_type": "code",
   "execution_count": null,
   "id": "58789eef",
   "metadata": {},
   "outputs": [],
   "source": [
    "#|export\n",
    "class PadCrop(nn.Module):\n",
    "    def __init__(self, \n",
    "        n_samples,           # length of chunk to extract from longer signal\n",
    "        randomize=True,      # draw cropped chunk from a random position in audio file\n",
    "        redraw_silence=True, # a chunk containing silence will be replaced with a new one\n",
    "        silence_thresh=-60,  # threshold in dB below which we declare to be silence\n",
    "        max_redraws=2        # when redrawing silences, don't do it more than this many\n",
    "        ):\n",
    "        super().__init__()\n",
    "        store_attr()     # sets self.___ vars automatically\n",
    "    \n",
    "    def draw_chunk(self, signal):\n",
    "        \"here's the part that actually draws a cropped/padded chunk of audio from signal\"\n",
    "        if len(signal.shape) < 2: signal = torch.unsqueeze(signal,0)\n",
    "        n, s = signal.shape\n",
    "        start = 0 if (not self.randomize) else torch.randint(0, max(0, s - self.n_samples) + 1, []).item()\n",
    "        end = start + self.n_samples\n",
    "        chunk = signal.new_zeros([n, self.n_samples])\n",
    "        chunk[:, :min(s, self.n_samples)] = signal[:, start:end]\n",
    "        crop_range = torch.tensor([start,end],dtype=int).to(signal.device) # making this a tensor helps preserve order in DataLoader \n",
    "        return chunk, crop_range\n",
    "    \n",
    "    def __call__(self, x):\n",
    "        \"when part of the pipline, this will grab a padded/cropped chunk from signal\"\n",
    "        signal = x if not isinstance(x, dict) else x['inputs']\n",
    "        chunk, crop_range = self.draw_chunk(signal)\n",
    "        num_redraws = 0\n",
    "        while self.redraw_silence and is_silence(chunk, thresh=self.silence_thresh) and (num_redraws < self.max_redraws):\n",
    "            chunk, crop_range = self.draw_chunk(signal)\n",
    "            num_redraws = num_redraws+1\n",
    "        if not isinstance(x, dict):  # multiple values, not handled by pipeline_return\n",
    "            return chunk\n",
    "        else:\n",
    "            ##SHH: don't save original as x['uncropped'] unless all input files have the same length, otherwise torch.utils.data.DataLoader will complain about collating different lengths\n",
    "            ##x['uncropped'] = x['inputs'] # save a copy (of the pointer) in case we want to quickly re-crop the same audio file\n",
    "            x['inputs'], x['crop_range'] = chunk, crop_range  # crop_range reports where chunk was taken from\n",
    "            return x "
   ]
  },
  {
   "cell_type": "markdown",
   "id": "e5f946dd",
   "metadata": {},
   "source": [
    "Testing `PadCrop()`"
   ]
  },
  {
   "cell_type": "code",
   "execution_count": null,
   "id": "3de5fdb9",
   "metadata": {},
   "outputs": [
    {
     "name": "stdout",
     "output_type": "stream",
     "text": [
      "audio =  tensor([0.6762, 0.0768, 0.9708, 0.0269, 0.2020, 0.4291, 0.3709, 0.4184])\n",
      "crop1 =  tensor([[0.9708, 0.0269, 0.2020]])\n",
      "crop_dict =  {'inputs': tensor([[0.9708, 0.0269, 0.2020]]), 'crop_range': tensor([2, 5])}\n",
      "crop1 == crop_dict: Success!\n"
     ]
    }
   ],
   "source": [
    "audio = torch.rand(8)\n",
    "crop_op = PadCrop(3)\n",
    "torch.random.manual_seed(0)\n",
    "crop1 = crop_op(audio)\n",
    "print(\"audio = \",audio)\n",
    "print(\"crop1 = \",crop1)                        # raw tensor version\n",
    "\n",
    "torch.random.manual_seed(0)\n",
    "crop_dict = crop_op({'inputs':audio})   # dict version\n",
    "print(\"crop_dict = \",crop_dict)   # dict version\n",
    "\n",
    "assert torch.equal(crop1, crop_dict['inputs']), f\"These should be equal: {crop1}, {crop_dict['inputs']}\"\n",
    "print('crop1 == crop_dict: Success!')"
   ]
  },
  {
   "cell_type": "markdown",
   "id": "0f2cd2ec",
   "metadata": {},
   "source": [
    "And test the dict version:"
   ]
  },
  {
   "cell_type": "code",
   "execution_count": null,
   "id": "1e3c17b5",
   "metadata": {},
   "outputs": [
    {
     "name": "stdout",
     "output_type": "stream",
     "text": [
      "crop = {'inputs': tensor([[0.1320, 0.3074, 0.6341]], device='cuda:0'), 'crop_range': tensor([2, 5], device='cuda:0')}\n"
     ]
    }
   ],
   "source": [
    "device = torch.device('cuda' if torch.cuda.is_available() else 'mps' if torch.backends.mps.is_available() else 'cpu')\n",
    "x = {'inputs':torch.rand(8).to(device)}\n",
    "crop_op = PadCrop(3)\n",
    "torch.random.manual_seed(0)\n",
    "crop = crop_op(x)\n",
    "print(\"crop =\",crop)"
   ]
  },
  {
   "cell_type": "code",
   "execution_count": null,
   "id": "30401d88",
   "metadata": {},
   "outputs": [],
   "source": [
    "#|export    \n",
    "class PhaseFlipper(nn.Module):\n",
    "    \"she was PHAAAAAAA-AAAASE FLIPPER, a random invert yeah\"\n",
    "    def __init__(self, \n",
    "        p=0.5  # probability that phase flip will be applied\n",
    "        ):\n",
    "        super().__init__()\n",
    "        self.p = p\n",
    "    def __call__(self, x):\n",
    "        signal = x if not isinstance(x, dict) else x['inputs']\n",
    "        out =  -signal if (random.random() < self.p) else signal\n",
    "        return pipeline_return(out, x)"
   ]
  },
  {
   "cell_type": "code",
   "execution_count": null,
   "id": "dad25902",
   "metadata": {},
   "outputs": [],
   "source": [
    "#|export  \n",
    "class FillTheNoise(nn.Module):\n",
    "    \"randomly adds a bit of noise, or not, just to spice things up\"\n",
    "    def __init__(self, \n",
    "        p=0.33       # probability that noise will be added\n",
    "        ):\n",
    "        super().__init__()\n",
    "        self.p = p\n",
    "    def __call__(self, x):\n",
    "        signal = x if not isinstance(x, dict) else x['inputs']\n",
    "        out = signal + 0.25*random.random()*(2*torch.rand_like(signal)-1) if (random.random() < self.p) else signal\n",
    "        return pipeline_return(out, x)"
   ]
  },
  {
   "cell_type": "code",
   "execution_count": null,
   "id": "9df46c6c",
   "metadata": {},
   "outputs": [],
   "source": [
    "#|export    \n",
    "class RandPool(nn.Module):\n",
    "    \"maybe (or maybe not) do an avgpool operation, with a random-sized kernel \"\n",
    "    def __init__(self, p=0.2):\n",
    "        self.p, self.maxkern = p, 100\n",
    "    def __call__(self, x):\n",
    "        if (random.random() < self.p):\n",
    "            signal = x if not isinstance(x, dict) else x['inputs']\n",
    "            ksize = int(random.random()*self.maxkern)\n",
    "            avger = nn.AvgPool1d(kernel_size=ksize, stride=1, padding=1)\n",
    "            return pipeline_return( avger(signal), x )\n",
    "        else:            \n",
    "            return x   # do nothing"
   ]
  },
  {
   "cell_type": "code",
   "execution_count": null,
   "id": "17a18dca",
   "metadata": {},
   "outputs": [],
   "source": [
    "#|export\n",
    "class NormInputs(nn.Module):\n",
    "    \"Normalize inputs to [-1,1]. Useful for quiet inputs\"\n",
    "    def __init__(self, \n",
    "        do_norm=True    # controllable parameter for turning normalization on/off\n",
    "        ):\n",
    "        super().__init__()\n",
    "        self.do_norm = do_norm\n",
    "        self.eps = 1e-2\n",
    "    def __call__(self, x):\n",
    "        signal = x if not isinstance(x, dict) else x['inputs']\n",
    "        out =  signal if (not self.do_norm) else signal/(torch.amax(signal,-1)[0] + self.eps)\n",
    "        return pipeline_return(out, x)"
   ]
  },
  {
   "cell_type": "code",
   "execution_count": null,
   "id": "37421dee",
   "metadata": {},
   "outputs": [],
   "source": [
    "#|export    \n",
    "class Mono(nn.Module):\n",
    "    \"convert audio to mono\"\n",
    "    def __call__(self, x):\n",
    "        signal = x if not isinstance(x, dict) else x['inputs']\n",
    "        out = torch.mean(signal, dim=0) if len(signal.shape) > 1 else signal\n",
    "        return pipeline_return(out, x)"
   ]
  },
  {
   "cell_type": "code",
   "execution_count": null,
   "id": "0dc183c1",
   "metadata": {},
   "outputs": [],
   "source": [
    "#|export\n",
    "class Stereo(nn.Module):\n",
    "    \"convert audio to stereo\"\n",
    "    def __call__(self, x):\n",
    "        signal = x if not isinstance(x, dict) else x['inputs']\n",
    "        # Check if it's mono\n",
    "        if len(signal.shape) == 1: # s -> 2, s\n",
    "            signal = signal.unsqueeze(0).repeat(2, 1)\n",
    "        elif len(signal.shape) == 2:       \n",
    "            if signal.shape[0] == 1: #1, s -> 2, s\n",
    "                signal = signal.repeat(2, 1)    # copy mono to stereo\n",
    "            elif signal.shape[0] > 2: #?, s -> 2,s\n",
    "                signal = signal[:2, :]         # grab only first two channels\n",
    "        return pipeline_return(signal, x)"
   ]
  },
  {
   "cell_type": "markdown",
   "id": "0eb35975",
   "metadata": {},
   "source": [
    "## Masking (of inputs)\n",
    "\n",
    "First a couple utility routines before the main masking routine:"
   ]
  },
  {
   "cell_type": "code",
   "execution_count": null,
   "id": "c5c41243",
   "metadata": {},
   "outputs": [],
   "source": [
    "#|export\n",
    "def smoothstep(x, # a tensor of coordinates across a domain, e.g. [0,1]\n",
    "    edge0=0.4, # \"zero\"/\"left\" side of smoothstep\n",
    "    edge1=0.6, # \"one\"/\"right\" side of smoothstep\n",
    "    ):\n",
    "    \"an s-shaped curve, 0's on left side and 1's at right side, with gradient zero at all 1's and 0's. cf. https://en.wikipedia.org/wiki/Smoothstep\"\n",
    "    x = torch.where(x < edge0, 0, x)\n",
    "    x = torch.where(x > edge1, 1, x)\n",
    "    x = torch.where( torch.logical_and(x >= edge0, x <= edge1) , (x - edge0) / (edge1 - edge0), x )\n",
    "    return x * x * (3 - 2 * x)"
   ]
  },
  {
   "cell_type": "code",
   "execution_count": null,
   "id": "3a29d738",
   "metadata": {},
   "outputs": [],
   "source": [
    "#|export\n",
    "def smoothstep_box(\n",
    "    coords, # tensor of coordinate values\n",
    "    edges = (0.2,0.3,0.5,0.6) # (left 1's boundary, left 0's boundary, right 0's boundary, right 1's boundary)\n",
    "    ): \n",
    "    \"makes a flat region of zeros that transitions smoothly to 1's via smoothsteps at the sides\"\n",
    "    assert edges[0] < edges[1] and edges[1] < edges[2] and edges[2] < edges[3], f\"Edges should be in increasing order but you have edges = {edges}\"\n",
    "    right = smoothstep(coords, edge0=edges[2], edge1=edges[3])\n",
    "    left = 1 - smoothstep(coords, edge0=edges[0], edge1=edges[1])\n",
    "    return left + right"
   ]
  },
  {
   "cell_type": "markdown",
   "id": "9fec9ce5",
   "metadata": {},
   "source": [
    "Testing `smoothstep_box`: "
   ]
  },
  {
   "cell_type": "code",
   "execution_count": null,
   "id": "1564acf9",
   "metadata": {},
   "outputs": [],
   "source": [
    "import matplotlib.pyplot as plt "
   ]
  },
  {
   "cell_type": "code",
   "execution_count": null,
   "id": "7bcdc0b1",
   "metadata": {},
   "outputs": [
    {
     "name": "stdout",
     "output_type": "stream",
     "text": [
      "device = cuda\n"
     ]
    },
    {
     "data": {
      "image/png": "[encoded data removed]",
      "text/plain": [
       "<Figure size 640x480 with 1 Axes>"
      ]
     },
     "metadata": {},
     "output_type": "display_data"
    }
   ],
   "source": [
    "device = torch.device('cuda' if torch.cuda.is_available() else 'mps' if torch.backends.mps.is_available() else 'cpu')\n",
    "print(f\"device = {device}\")\n",
    "x = torch.linspace(0,1,steps=100).to(device)\n",
    "y = smoothstep_box(x)\n",
    "plt.plot(x.cpu(), y.cpu())\n",
    "plt.xlabel('x')\n",
    "plt.show()"
   ]
  },
  {
   "cell_type": "markdown",
   "id": "ac0116d0",
   "metadata": {},
   "source": [
    "And now the main masking routine: "
   ]
  },
  {
   "cell_type": "code",
   "execution_count": null,
   "id": "eb5b2942",
   "metadata": {},
   "outputs": [],
   "source": [
    "#|export\n",
    "class RandMask1D(nn.Module):\n",
    "    \"Performs masking or 'cutout' along 1d data. Can support 'smooth sides' to the cutouts\"\n",
    "    def __init__(self, \n",
    "        mask_frac=0.25,        # fraction of total input that is to be masked (helps compute no. of masked regions)\n",
    "        mask_width=0.1,        # either a fraction of the total length (float < 1) or an exact integer value for length of each masked region\n",
    "        mask_type='simple',    # 'simple'=hard sides to cuts, 'softstep'=smooth sides\n",
    "        edge_width=0.2,        # for mask_type=smoothstep, fraction or integer value of transition regions to come in from the sides of zeros region\n",
    "        per_channel=False,      # different masks on different channels; model can cheat if your inputs are mono\n",
    "        verbose = False,       # show logging info\n",
    "        ):\n",
    "        super().__init__()\n",
    "        if mask_width < 1: self.mask_width_frac = mask_width   # if float is given, set fraction of chunk length for each mask\n",
    "        self.mask_frac,  self.mask_width, self.mask_type, self.edge_width, self.verbose = mask_frac, mask_width, mask_type, edge_width, verbose\n",
    "        self.per_channel = per_channel\n",
    "        self.mask = None       # mask is only setup (once and for all) when forward() is called\n",
    "\n",
    "    def make_single_mask(self, x, min_val=0):\n",
    "        \"allocate a 1D group of min_vals (zeros) amidst a bunch of 1's. Put the zeros/min_vals values in the middle\"\n",
    "        start = max(0, (x.shape[-1] - self.mask_width)//2 ) \n",
    "        end =   min(start + self.mask_width, x.shape[-1])   # don't go over the edge\n",
    "        with torch.no_grad():\n",
    "            if self.mask_type == 'simple': \n",
    "                self.mask = torch.ones(x.shape[-1]).to(x.device)\n",
    "                self.mask[start:end] = min_val                  \n",
    "            elif self.mask_type == 'smoothstep':       \n",
    "                coords = torch.linspace(0,1, steps=x.shape[-1]).to(x.device)\n",
    "                ew = self.edge_width if isinstance(self.edge_width,int) else int((end-start)*self.edge_width) # edge width in samples\n",
    "                self.mask = smoothstep_box(coords, edges=[coords[i] for i in [start, start+ew, end-ew, end]])\n",
    "            else:\n",
    "                assert False, f\"Error: Unsupported mask type: '{self.mask_type}'\"\n",
    "\n",
    "    def mask_once_1channel(self, \n",
    "        xc,            # one channel of x\n",
    "        move=None,     # amount by which to shift the mask around, in samples\n",
    "        start_loc = None, # can specify where to start from (typically leave this as None)\n",
    "        ):\n",
    "        \"excises one mask region for one channel (hence '_1c') in one batch\"\n",
    "        # shift the mask forward or backward   \n",
    "        shift_by = int((2*np.random.rand()-1)*xc.shape[-1]) if start_loc is None else start_loc\n",
    "        with torch.no_grad():\n",
    "            mask_view = torch.roll(self.mask, shift_by, -1).to(xc.device)   # move the mask around (as a view of original mask tensor)\n",
    "        return xc * mask_view # this does the excising, not in place (so xc stays unchanged)\n",
    "\n",
    "    def forward(self, x):\n",
    "        signal = x if not isinstance(x, dict) else x['inputs']\n",
    "        if self.mask is None:  # setup the mask if it hasn't been setup already\n",
    "            if isinstance(self.mask_width, float):  # convert it from a fraction to an integer number of samples\n",
    "                self.mask_width = int(signal.shape[-1] * self.mask_width_frac)\n",
    "            self.make_single_mask(signal)\n",
    "            self.n_masks =  int(self.mask_frac * signal.shape[-1]/self.mask_width)  # number of mask regions to add per channel. we will not worry about whether masks end up overlapping or not\n",
    "            if self.verbose: print(\"\\n MMMM-  RandMask1D: Mask engaged!  self.mask_width, self.n_masks = \",self.mask_width, self.n_masks,\"\\n\")\n",
    "\n",
    "        out = signal.clone().to(signal.device)  # make a copy so that we don't overwrite x\n",
    "        while len(out.shape) < 3:     # add batch dim and channel dim for loop below if needed\n",
    "            out = out.unsqueeze(0)\n",
    "        assert len(out.shape) >= 3, f\"Expected x to have 3 or more dimensions but x.shape = {x.shape}\" # x.shape should be [b,c,n_samples]\n",
    "        for bi in range(out.shape[0]):  # TODO: gotta be a way to do this all at once instead of 3 loops! \n",
    "            if self.per_channel:\n",
    "                for c in range(out.shape[1]):  \n",
    "                    for i in range(self.n_masks):\n",
    "                        out[bi,c,:] = self.mask_once_1channel(out[bi,c,:]) \n",
    "            else:           # mask all channels at once. keeps model from cheating when mono has been doubled to L&R\n",
    "                for i in range(self.n_masks):\n",
    "                    out[bi,:,:] = self.mask_once_1channel(out[bi,:,:])  \n",
    "        out = torch.reshape(out, signal.shape)\n",
    "        if not isinstance(x, dict):      # too complex for pipeline_return\n",
    "            return out\n",
    "        else: \n",
    "            x['unmasked'] = x['inputs'] # save a copy (of the pointer) in case we want it later\n",
    "            x['inputs'] = out\n",
    "            return x "
   ]
  },
  {
   "cell_type": "markdown",
   "id": "da211f33",
   "metadata": {},
   "source": [
    "Let's test the simple mask (\"hard cuts\"):"
   ]
  },
  {
   "cell_type": "code",
   "execution_count": null,
   "id": "23eacf94",
   "metadata": {},
   "outputs": [
    {
     "name": "stdout",
     "output_type": "stream",
     "text": [
      "\n",
      " MMMM-  RandMask1D: Mask engaged!  self.mask_width, self.n_masks =  500 3 \n",
      "\n"
     ]
    },
    {
     "data": {
      "image/png": "[encoded data removed]",
      "text/plain": [
       "<Figure size 1400x400 with 3 Axes>"
      ]
     },
     "metadata": {},
     "output_type": "display_data"
    }
   ],
   "source": [
    "torch.manual_seed(0)\n",
    "audio = (2*torch.rand((2,2,5000))-1).to(device)\n",
    "mask_op = RandMask1D(mask_frac=0.3, mask_width=0.1, verbose=True)\n",
    "masked = mask_op.forward(audio)\n",
    "\n",
    "# routine to display what we got\n",
    "def display_mask_data(audio, mask_op, masked):\n",
    "    fig, ax = plt.subplots(1,3,figsize=(14,4))\n",
    "    ax[1].plot(mask_op.mask.cpu(), label='single mask')\n",
    "    for c in range(audio.shape[1]): # show different channels of masked audio\n",
    "        ax[0].plot(audio[0,0,:].cpu(),  alpha=0.4, label=f'audio, channel{c}')\n",
    "        ax[2].plot(masked[0,c,:].cpu(), alpha=0.4, label=f'masked audio, channel{c}')\n",
    "    for i in range(3): ax[i].legend()\n",
    "    plt.show() \n",
    "\n",
    "display_mask_data(audio, mask_op, masked)"
   ]
  },
  {
   "cell_type": "markdown",
   "id": "ac8e803e",
   "metadata": {},
   "source": [
    "Now test the mask with \"softstep\" sides and the \"per-channel\" masking:"
   ]
  },
  {
   "cell_type": "code",
   "execution_count": null,
   "id": "d53b2e82",
   "metadata": {},
   "outputs": [
    {
     "name": "stdout",
     "output_type": "stream",
     "text": [
      "\n",
      " MMMM-  RandMask1D: Mask engaged!  self.mask_width, self.n_masks =  1000 2 \n",
      "\n"
     ]
    },
    {
     "data": {
      "image/png": "[encoded data removed]",
      "text/plain": [
       "<Figure size 1400x400 with 3 Axes>"
      ]
     },
     "metadata": {},
     "output_type": "display_data"
    }
   ],
   "source": [
    "mask_op = RandMask1D(mask_frac=0.4, mask_width=0.2, mask_type='smoothstep', edge_width=0.3, verbose=True, per_channel=True)\n",
    "masked = mask_op.forward(audio)\n",
    "display_mask_data(audio, mask_op, masked)"
   ]
  },
  {
   "cell_type": "markdown",
   "id": "fec053c9",
   "metadata": {},
   "source": [
    "...and lets make sure the dict version retains the \"unmasked\" audio, unaltered:"
   ]
  },
  {
   "cell_type": "code",
   "execution_count": null,
   "id": "f137d9e4",
   "metadata": {},
   "outputs": [
    {
     "data": {
      "image/png": "[encoded data removed]",
      "text/plain": [
       "<Figure size 1400x400 with 3 Axes>"
      ]
     },
     "metadata": {},
     "output_type": "display_data"
    }
   ],
   "source": [
    "masked = mask_op.forward({'inputs':audio})\n",
    "display_mask_data(masked['unmasked'], mask_op, masked['inputs'] )"
   ]
  },
  {
   "cell_type": "markdown",
   "id": "cf846139",
   "metadata": {},
   "source": [
    "# AudioDataset class\n",
    "\n",
    "The flagship class!"
   ]
  },
  {
   "cell_type": "code",
   "execution_count": null,
   "id": "4ba890cb",
   "metadata": {},
   "outputs": [],
   "source": [
    "#|export\n",
    "class AudioDataset(torch.utils.data.Dataset):\n",
    "    \"\"\"\n",
    "    Reads from a tree of directories and serves up cropped bits from any and all audio files\n",
    "    found therein. For efficiency, best if you \"chunk\" these files via chunkadelic\n",
    "    modified from https://github.com/drscotthawley/audio-diffusion/blob/main/dataset/dataset.py\n",
    "    \"\"\"\n",
    "    def __init__(self, \n",
    "        paths,             # list of strings of directory (/tree) names to draw audio files from\n",
    "        sample_rate=48000, # audio sample rate in Hz\n",
    "        sample_size=65536, # how many audio samples in each \"chunk\"\n",
    "        random_crop=True,  # take chunks from random positions within files\n",
    "        load_frac=1.0,     # fraction of total dataset to load\n",
    "        cache_training_data=False,  # True = pre-load whole dataset into memory (not fully supported)\n",
    "        num_gpus=8,        # used only when `cache_training_data=True`, to avoid duplicates,\n",
    "        redraw_silence=True, # a chunk containing silence will be replaced with a new one\n",
    "        silence_thresh=-60,  # threshold in dB below which we declare to be silence\n",
    "        max_redraws=2,        # when redrawing silences, don't do it more than this many\n",
    "        augs='Stereo(), PhaseFlipper()', # list of augmentation transforms **after PadCrop**, as a string\n",
    "        verbose=False,       # whether to print notices of reasampling or not\n",
    "        return_dict=False    # False=return raw audio only, True=return dict of all kinds of info\n",
    "        ):\n",
    "        super().__init__()\n",
    "    \n",
    "        print(\"augs =\",augs)\n",
    "        # base_augs are always applied\n",
    "        base_augs = 'PadCrop(sample_size, randomize=random_crop, redraw_silence=redraw_silence, silence_thresh=silence_thresh, max_redraws=max_redraws)'\n",
    "        self.augs = eval(f'torch.nn.Sequential( {base_augs}, {augs} )')  if augs is not None else None \n",
    "        self.silence_thresh = silence_thresh\n",
    "        self.redraw_silence = redraw_silence\n",
    "        self.max_redraws = max_redraws\n",
    "        self.sr = sample_rate\n",
    "        self.cache_training_data = cache_training_data\n",
    "        self.verbose = verbose\n",
    "        self.return_dict = return_dict\n",
    "\n",
    "        self.filenames = get_audio_filenames(paths)\n",
    "        print(f\"AudioDataset:{len(self.filenames)} files found.\")\n",
    "        self.n_files = int(len(self.filenames)*load_frac)\n",
    "        self.filenames = self.filenames[0:self.n_files]\n",
    "        if cache_training_data: self.preload_files()\n",
    "\n",
    "        self.convert_tensor = VT.ToTensor()\n",
    "\n",
    "    def load_file_ind(self, file_list,i): # used when caching training data\n",
    "        return load_audio(file_list[i], sr=self.sr, verbose=self.verbose).cpu()\n",
    "\n",
    "    def get_data_range(self): # for parallel runs, only grab part of the data -- OBVIATED BY CHUNKING.\n",
    "        start, stop = 0, len(self.filenames)\n",
    "        try:\n",
    "            local_rank = int(os.environ[\"LOCAL_RANK\"])\n",
    "            world_size = int(os.environ[\"WORLD_SIZE\"])\n",
    "            interval = stop//world_size\n",
    "            start, stop = local_rank*interval, (local_rank+1)*interval\n",
    "            return start, stop\n",
    "        except KeyError as e: # we're on GPU 0 and the others haven't been initialized yet\n",
    "            start, stop = 0, len(self.filenames)//self.num_gpus\n",
    "            return start, stop\n",
    "\n",
    "    def preload_files(self):\n",
    "        print(f\"Caching {self.n_files} input audio files:\")\n",
    "        wrapper = partial(self.load_file_ind, self.filenames)\n",
    "        start, stop = self.get_data_range()\n",
    "        with Pool(processes=cpu_count()) as p:   # //8 to avoid FS bottleneck and/or too many processes (b/c * num_gpus)\n",
    "            self.audio_files = list(tqdm.tqdm(p.imap(wrapper, range(start,stop)), total=stop-start))\n",
    "\n",
    "    def __len__(self):\n",
    "        return len(self.filenames)\n",
    "    \n",
    "    \n",
    "    def get_next_chunk(self, \n",
    "        idx,     # the index of the file within the list of files\n",
    "        ):\n",
    "        \"The heart of this whole dataset routine: Loads file, crops & runs other augmentations\"\n",
    "        audio_filename = self.filenames[idx]\n",
    "        try:\n",
    "            if self.cache_training_data:\n",
    "                audio = self.audio_files[idx] # .copy()\n",
    "            else:\n",
    "                audio = load_audio(audio_filename, sr=self.sr, verbose=self.verbose)\n",
    "            x = {'filename':audio_filename, 'inputs':audio} if self.return_dict else audio  # x is either audio or dict\n",
    "            x = self.augs(x)      # RUN AUGMENTATION PIPELINE\n",
    "            if isinstance(x, dict):\n",
    "                x['inputs'] = x['inputs'].clamp(-1, 1)\n",
    "            else:\n",
    "                x = x.clamp(-1, 1)\n",
    "            return x\n",
    "        \n",
    "        except Exception as e:\n",
    "            print(f'AudioDataset.get_next_chunk: Error loading file {audio_filename}: {e}')\n",
    "            return None\n",
    "        \n",
    "        \n",
    "    def __getitem__(self, \n",
    "        idx     # the index of the file within the list of files\n",
    "        ):\n",
    "        \"__getitem__ is expected to return (inputs, labels)\"\n",
    "        x = self.get_next_chunk(idx)  # x is either audio or a dict, depending on self.return_dict\n",
    "        audio = x if not isinstance(x, dict) else x['inputs']\n",
    "        \n",
    "        # even with PadCrop set to reject silences, it could be that the whole file is silence; \n",
    "        num_redraws = 0 \n",
    "        while (audio is None) or (self.redraw_silence and is_silence(audio, thresh=self.silence_thresh) \\\n",
    "            and (num_redraws < self.max_redraws)):\n",
    "            next_idx = random.randint(0,len(self.filenames)-1)     # pick some other file at random\n",
    "            x, num_redraws = self.get_next_chunk(next_idx), num_redraws+1\n",
    "            audio = x if not isinstance(x, dict) else x['inputs']\n",
    "    \n",
    "        if self.verbose: print(\"__getitem__: x =\",x)\n",
    "        return self[random.randrange(len(self))] if (x is None) else x"
   ]
  },
  {
   "cell_type": "markdown",
   "id": "91122ae6",
   "metadata": {},
   "source": [
    "Quick check to catch minor errors:"
   ]
  },
  {
   "cell_type": "code",
   "execution_count": null,
   "id": "034ffa76",
   "metadata": {},
   "outputs": [
    {
     "name": "stdout",
     "output_type": "stream",
     "text": [
      "augs = Stereo(), PhaseFlipper(), FillTheNoise(), NormInputs()\n",
      "AudioDataset:2 files found.\n"
     ]
    },
    {
     "name": "stderr",
     "output_type": "stream",
     "text": [
      "/fsx/shawley/envs/shazbot/lib64/python3.8/site-packages/librosa/util/decorators.py:88: UserWarning: PySoundFile failed. Trying audioread instead.\n",
      "  return f(*args, **kwargs)\n"
     ]
    },
    {
     "name": "stdout",
     "output_type": "stream",
     "text": [
      "signal.shape = torch.Size([2, 65536])\n",
      "\n",
      "Stereo -------------\n",
      "augs = Stereo(), PhaseFlipper()\n",
      "AudioDataset:2 files found.\n"
     ]
    },
    {
     "name": "stderr",
     "output_type": "stream",
     "text": [
      "/fsx/shawley/envs/shazbot/lib64/python3.8/site-packages/librosa/util/decorators.py:88: UserWarning: PySoundFile failed. Trying audioread instead.\n",
      "  return f(*args, **kwargs)\n"
     ]
    },
    {
     "name": "stdout",
     "output_type": "stream",
     "text": [
      "signal2.shape = torch.Size([2, 65536])\n"
     ]
    }
   ],
   "source": [
    "#| eval: false\n",
    "dataset = AudioDataset('examples/', augs='Stereo(), PhaseFlipper(), FillTheNoise(), NormInputs()')\n",
    "signal = dataset.__getitem__(0)\n",
    "print(\"signal.shape =\",signal.shape)\n",
    "\n",
    "print(\"\\nStereo -------------\")\n",
    "dataset2 = AudioDataset('examples/', augs='Stereo(), PhaseFlipper()')\n",
    "signal2 = dataset2.__getitem__(0)\n",
    "print(\"signal2.shape =\",signal2.shape)"
   ]
  },
  {
   "cell_type": "markdown",
   "id": "42207149",
   "metadata": {},
   "source": [
    "Check newer aug pipeline features: dict and masking:"
   ]
  },
  {
   "cell_type": "code",
   "execution_count": null,
   "id": "99c2f993",
   "metadata": {},
   "outputs": [
    {
     "name": "stdout",
     "output_type": "stream",
     "text": [
      "\\Dict & Masked -------------\n",
      "augs = Stereo(), PhaseFlipper(), RandMask1D(verbose=True)\n",
      "AudioDataset:2 files found.\n"
     ]
    },
    {
     "name": "stderr",
     "output_type": "stream",
     "text": [
      "/fsx/shawley/envs/shazbot/lib64/python3.8/site-packages/librosa/util/decorators.py:88: UserWarning: PySoundFile failed. Trying audioread instead.\n",
      "  return f(*args, **kwargs)\n"
     ]
    },
    {
     "name": "stdout",
     "output_type": "stream",
     "text": [
      "\n",
      " MMMM-  RandMask1D: Mask engaged!  self.mask_width, self.n_masks =  6553 2 \n",
      "\n",
      "x3['inputs'].shape = torch.Size([2, 65536])\n",
      "x3 =  {'filename': 'examples/stereo_pewpew.mp3', 'inputs': tensor([[-0.0090, -0.0085, -0.0081,  ..., -0.0017, -0.0018, -0.0018],\n",
      "        [-0.0300, -0.0257, -0.0255,  ...,  0.0013,  0.0013,  0.0012]]), 'crop_range': tensor([162885, 228421]), 'unmasked': tensor([[-0.0090, -0.0085, -0.0081,  ..., -0.0017, -0.0018, -0.0018],\n",
      "        [-0.0300, -0.0257, -0.0255,  ...,  0.0013,  0.0013,  0.0012]])}\n"
     ]
    }
   ],
   "source": [
    "print(\"\\Dict & Masked -------------\")\n",
    "dataset3 = AudioDataset('examples/', augs='Stereo(), PhaseFlipper(), RandMask1D(verbose=True)',return_dict=true)\n",
    "x3 = dataset3.__getitem__(0)\n",
    "print(\"x3['inputs'].shape =\",x3['inputs'].shape)\n",
    "print(\"x3 = \",x3)"
   ]
  },
  {
   "cell_type": "markdown",
   "id": "53186525",
   "metadata": {},
   "source": [
    "Test how the DataLoader behaves in dict pipeline mode:"
   ]
  },
  {
   "cell_type": "code",
   "execution_count": null,
   "id": "fde479d9",
   "metadata": {},
   "outputs": [],
   "source": [
    "from torch.utils.data import DataLoader"
   ]
  },
  {
   "cell_type": "markdown",
   "id": "4fcae01f",
   "metadata": {},
   "source": [
    "For the non-dict pipeline, audio data is naturally batched already into a tensor:"
   ]
  },
  {
   "cell_type": "code",
   "execution_count": null,
   "id": "a1184270",
   "metadata": {},
   "outputs": [
    {
     "name": "stdout",
     "output_type": "stream",
     "text": [
      "augs = Stereo(), PhaseFlipper()\n",
      "AudioDataset:2 files found.\n"
     ]
    },
    {
     "name": "stderr",
     "output_type": "stream",
     "text": [
      "/fsx/shawley/envs/shazbot/lib64/python3.8/site-packages/librosa/util/decorators.py:88: UserWarning: PySoundFile failed. Trying audioread instead.\n",
      "  return f(*args, **kwargs)\n"
     ]
    },
    {
     "name": "stdout",
     "output_type": "stream",
     "text": [
      "batch =\n",
      " tensor([[[-0.0003, -0.0004, -0.0006,  ...,  0.0000,  0.0000,  0.0000],\n",
      "         [-0.0003, -0.0004, -0.0006,  ...,  0.0000,  0.0000,  0.0000]],\n",
      "\n",
      "        [[-0.0002,  0.0002,  0.0004,  ..., -0.0547, -0.0604, -0.0613],\n",
      "         [ 0.0015,  0.0015,  0.0015,  ...,  0.0009,  0.0009,  0.0009]]])\n"
     ]
    },
    {
     "data": {
      "text/plain": [
       "torch.Size([2, 2, 65536])"
      ]
     },
     "execution_count": null,
     "metadata": {},
     "output_type": "execute_result"
    }
   ],
   "source": [
    "dataset = AudioDataset('examples/', augs='Stereo(), PhaseFlipper()')\n",
    "train_dl = DataLoader(dataset, batch_size=2, shuffle=True)\n",
    "batch = next(iter(train_dl))\n",
    "print(\"batch =\\n\",batch)\n",
    "batch.shape"
   ]
  },
  {
   "cell_type": "markdown",
   "id": "41a59b1d",
   "metadata": {},
   "source": [
    "Whereas for the dict pipeline, we end up with a lot more information.  Thankfully `DataLoader` already converts our batch of dicts to a dict of batches, automatically. "
   ]
  },
  {
   "cell_type": "code",
   "execution_count": null,
   "id": "ee52bc21",
   "metadata": {},
   "outputs": [
    {
     "name": "stdout",
     "output_type": "stream",
     "text": [
      "augs = Stereo(), PhaseFlipper()\n",
      "AudioDataset:2 files found.\n"
     ]
    },
    {
     "name": "stderr",
     "output_type": "stream",
     "text": [
      "/fsx/shawley/envs/shazbot/lib64/python3.8/site-packages/librosa/util/decorators.py:88: UserWarning: PySoundFile failed. Trying audioread instead.\n",
      "  return f(*args, **kwargs)\n"
     ]
    },
    {
     "name": "stdout",
     "output_type": "stream",
     "text": [
      "batch =\n",
      " {'filename': ['examples/stereo_pewpew.mp3', 'examples/example.wav'], 'inputs': tensor([[[-0.0178, -0.0163, -0.0150,  ...,  0.0044,  0.0044,  0.0044],\n",
      "         [ 0.0005,  0.0005,  0.0006,  ..., -0.0774, -0.1114, -0.1427]],\n",
      "\n",
      "        [[ 0.0003,  0.0004,  0.0006,  ..., -0.0000, -0.0000, -0.0000],\n",
      "         [ 0.0003,  0.0004,  0.0006,  ..., -0.0000, -0.0000, -0.0000]]]), 'crop_range': tensor([[13789, 79325],\n",
      "        [    0, 65536]])}\n"
     ]
    },
    {
     "data": {
      "text/plain": [
       "torch.Size([2, 2, 65536])"
      ]
     },
     "execution_count": null,
     "metadata": {},
     "output_type": "execute_result"
    }
   ],
   "source": [
    "dataset = AudioDataset('examples/', augs='Stereo(), PhaseFlipper()', return_dict=true)\n",
    "train_dl = DataLoader(dataset, batch_size=2, shuffle=True)\n",
    "batch = next(iter(train_dl))\n",
    "print(\"batch =\\n\",batch)\n",
    "batch['inputs'].shape"
   ]
  },
  {
   "cell_type": "markdown",
   "id": "1f68f216",
   "metadata": {},
   "source": [
    "## WebDataset support\n",
    "\n",
    "\n",
    "### Background Info\n",
    "Refer to the official [WebDataset Repo on GitHub](https://github.com/webdataset/webdataset).\n",
    "\n",
    "> WebDataset makes it easy to write I/O pipelines for large datasets. Datasets can be stored locally or in the cloud.\n",
    "\n",
    "They use the word \"shards\" but never define what \"shard\" means.  I (S.H.) surmise they mean the groups of data files which are gathered into a series of `.tar` files -- the `.tar` files are the shards? \n",
    "\n",
    "cf. Video Tutorial: [\"Loading Training Data with WebDataset\"](https://www.youtube.com/watch?v=mTv_ePYeBhs).\n",
    "\n",
    "The recommended usage for AWS S3 can be seen in [this GitHub Issue comment by tmbdev] (https://github.com/webdataset/webdataset/issues/21#issuecomment-706008342): \n",
    "\n",
    "```Python\n",
    "url = \"pipe:s3cmd get s3://bucket/dataset-{000000..000999}.tar -\"\n",
    "dataset = wds.Dataset(url)...\n",
    "```\n",
    "> ^[sic.] `s3cmd get` should read `aws s3 cp`. \n",
    "\n",
    "That URL is expecting a contiguously-numbered range of .tar files. So if the file numbers are contiguous (no gaps), then we'll have an easy time. Otherwise, there are ways to pass in a long list of similar \"pipe:...tar\" 'urls' for each and every tar file, which is still not a big deal though it may appear messier. "
   ]
  },
  {
   "cell_type": "markdown",
   "id": "3d17ec51",
   "metadata": {},
   "source": [
    "> NOTE: be prepared for extensive 'testing cases' shown for the following routines.  "
   ]
  },
  {
   "cell_type": "markdown",
   "id": "0de14168",
   "metadata": {},
   "source": [
    "### General utility: `get_s3_contents()`"
   ]
  },
  {
   "cell_type": "code",
   "execution_count": null,
   "id": "8f08111e",
   "metadata": {},
   "outputs": [],
   "source": [
    "#|export\n",
    "def get_s3_contents(\n",
    "    dataset_path,     # \"name\" of the dataset on s3\n",
    "    s3_url_prefix='s3://s-laion-audio/webdataset_tar/',  # s3 bucket to check\n",
    "    filter='',       # only grab certain filename / extensions\n",
    "    recursive=True,  # check all subdirectories. RECOMMEND LEAVING THIS TRUE\n",
    "    debug=False,     # print debugging info (don't rely on this info staying consistent)\n",
    "    ):\n",
    "    \"Gets a list of names of files or subdirectories on an s3 path\"\n",
    "    if (dataset_path != '') and (not dataset_path.endswith('/')): \n",
    "        dataset_path = dataset_path + '/'\n",
    "    dataset_path = dataset_path.replace('//','/') # aws is baffled by double slashes in dir names\n",
    "    if not recursive:\n",
    "        run_ls = subprocess.run(['aws','s3','ls',f'{s3_url_prefix}{dataset_path}'], capture_output=True)\n",
    "    else:\n",
    "        run_ls = subprocess.run(['aws','s3','ls',f'{s3_url_prefix}{dataset_path}','--recursive'], capture_output=True)\n",
    "        run_ls = subprocess.run([\"awk\",'{$1=$2=$3=\"\"; print $0}'], input=run_ls.stdout, capture_output=True)\n",
    "        run_ls = subprocess.run([\"sed\",'s/^[ \\t]*//'], input=run_ls.stdout, capture_output=True)\n",
    "    contents = run_ls.stdout.decode('utf-8').split('\\n') \n",
    "    contents = [x.strip() for x in contents if x]      # list of non-empty strings, without leading whitespace\n",
    "    contents = [x.replace('PRE ','') if (x[-1]=='/') else x for x in contents]  # directories\n",
    "    #contents = [''.join(x.split(' ')[4:]) if (x[-1]!='/') else x for x in contents]    # files\n",
    "    if recursive:  # recursive flag weirdly adds redundant extr directory name taken from s3 url, so we should strip\n",
    "        main_dir = s3_url_prefix.split('/')[-2]\n",
    "        if debug: print(\"main_dir =\",main_dir)\n",
    "        contents = [x.replace(f'{main_dir}/','').replace(dataset_path,'').replace('//','/') for x in contents]\n",
    "        if debug: print(\"contents = \",contents)\n",
    "    return [x for x in contents if filter in x] # return filtered list"
   ]
  },
  {
   "cell_type": "markdown",
   "id": "bde32e18",
   "metadata": {},
   "source": [
    "Let's test that on the FSD50K dataset:\n",
    "> Note: These tests will only work on systems on which you have valid AWS credentials, e.g. the Stability cluster. If the docs show a bunch of blanks in what follows, that's why. "
   ]
  },
  {
   "cell_type": "code",
   "execution_count": null,
   "id": "b4f1e399",
   "metadata": {},
   "outputs": [],
   "source": [
    "#| eval: false\n",
    "get_s3_contents('130000_MIDI_SONGS', recursive=False)"
   ]
  },
  {
   "cell_type": "code",
   "execution_count": null,
   "id": "da9724af",
   "metadata": {},
   "outputs": [],
   "source": [
    "#| eval: false\n",
    "get_s3_contents('FSD50K/test/')"
   ]
  },
  {
   "cell_type": "markdown",
   "id": "5652b014",
   "metadata": {},
   "source": [
    "And let's try filtering for only tar files: "
   ]
  },
  {
   "cell_type": "code",
   "execution_count": null,
   "id": "7b794212",
   "metadata": {},
   "outputs": [],
   "source": [
    "#| eval: false\n",
    "tar_names = get_s3_contents('FSD50K/test', filter='tar')\n",
    "tar_names"
   ]
  },
  {
   "cell_type": "markdown",
   "id": "ab88ca9a",
   "metadata": {},
   "source": [
    "List all LAION audio datasets:"
   ]
  },
  {
   "cell_type": "code",
   "execution_count": null,
   "id": "2ab38ea6",
   "metadata": {},
   "outputs": [],
   "source": [
    "get_s3_contents('',recursive=False)"
   ]
  },
  {
   "cell_type": "markdown",
   "id": "f65fd582",
   "metadata": {},
   "source": [
    "List all of dadabots' `ekto` tar files in their `1/` directory:"
   ]
  },
  {
   "cell_type": "code",
   "execution_count": null,
   "id": "75e4510d",
   "metadata": {},
   "outputs": [],
   "source": [
    "#| eval: false\n",
    "contents = get_s3_contents('ekto/1/', s3_url_prefix='s3://s-harmonai/datasets/', recursive=True, debug=False)\n",
    "contents[0:10] # let's just print 10 of them"
   ]
  },
  {
   "cell_type": "markdown",
   "id": "99c9a03d",
   "metadata": {},
   "source": [
    "### For contiguous file-number lists...\n",
    "\n",
    "Maybe the range of tar numbers is contigous.  (In the LAION AudoiDataset archives, they are each contiguous within `train/`, `valid/`, and `test/` subsets.) If so, let's have something to output that range:"
   ]
  },
  {
   "cell_type": "code",
   "execution_count": null,
   "id": "b2d3595e",
   "metadata": {},
   "outputs": [],
   "source": [
    "#|export \n",
    "def get_contiguous_range(\n",
    "    tar_names, # list of tar file names, although the .tar part is actually optional\n",
    "    ):\n",
    "    \"given a string of tar file names, return a string of their range if the numbers are contiguous. Otherwise return empty string\"\n",
    "    if len(tar_names) == 0:  return ''\n",
    "    elif len(tar_names) == 1: return tar_names[-1]\n",
    "    just_nums = [x.replace('.tar','') for x in tar_names]\n",
    "    just_nums.sort(key=int) # sorts numerically but meaningfully preserves leading zeros in strings\n",
    "    nums_arr = np.asarray(just_nums,  dtype=int)\n",
    "    is_contiguous =  np.abs( (nums_arr - np.roll(nums_arr,1)) [1:] ).max() == 1\n",
    "    if is_contiguous:   # {000000..000999}\n",
    "        return '{' + f'{just_nums[0]}..{just_nums[-1]}' +'}'\n",
    "    else:\n",
    "        print(\"get_contiguous_range: File numbers not continuous\")  # have to do more work\n",
    "        return '' # empty string will signify no dice; signal for more work to be done"
   ]
  },
  {
   "cell_type": "code",
   "execution_count": null,
   "id": "af40b720",
   "metadata": {},
   "outputs": [],
   "source": [
    "#| eval: false\n",
    "cont_range = get_contiguous_range(tar_names)\n",
    "cont_range"
   ]
  },
  {
   "cell_type": "markdown",
   "id": "fc08f2f5",
   "metadata": {},
   "source": [
    "Test if leading zeros are preserved:"
   ]
  },
  {
   "cell_type": "code",
   "execution_count": null,
   "id": "3e76f5f4",
   "metadata": {},
   "outputs": [],
   "source": [
    "#| eval: false\n",
    "get_contiguous_range(['0000'+x for x in tar_names])  "
   ]
  },
  {
   "cell_type": "markdown",
   "id": "a3158e11",
   "metadata": {},
   "source": [
    "Test zero-element and single element versions:"
   ]
  },
  {
   "cell_type": "code",
   "execution_count": null,
   "id": "7f8f0267",
   "metadata": {},
   "outputs": [],
   "source": [
    "print(get_contiguous_range([]))\n",
    "print(get_contiguous_range([1]))"
   ]
  },
  {
   "cell_type": "markdown",
   "id": "c309f2e5",
   "metadata": {},
   "source": [
    "And show that '.tar' is optional:"
   ]
  },
  {
   "cell_type": "code",
   "execution_count": null,
   "id": "d632e08d",
   "metadata": {},
   "outputs": [],
   "source": [
    "get_contiguous_range(['01','02','3']) "
   ]
  },
  {
   "cell_type": "markdown",
   "id": "a9b55148",
   "metadata": {},
   "source": [
    "....So, if a contiguous range of tar file names is available in a WebDataset directory, then we can just use the native WebDataset creation utilities and can ignore all the other %$#*& that's about to follow below. \n",
    "\n",
    "Let's test the simple version first:"
   ]
  },
  {
   "cell_type": "code",
   "execution_count": null,
   "id": "d7d20707",
   "metadata": {},
   "outputs": [],
   "source": [
    "#| eval: false\n",
    "s3_url_prefix='s3://s-laion-audio/webdataset_tar/'\n",
    "url = f\"pipe:aws s3 cp {s3_url_prefix}FSD50K/test/{cont_range}.tar -\"  # 'aws get' is not a thing. 'aws cp' is\n",
    "print(url)\n",
    "dataset = wds.WebDataset(url)"
   ]
  },
  {
   "cell_type": "markdown",
   "id": "57aef619",
   "metadata": {},
   "source": [
    "`WebDataset` is a kind of `IterableDataset`, so we can iterate over it directly:"
   ]
  },
  {
   "cell_type": "code",
   "execution_count": null,
   "id": "f381310c",
   "metadata": {},
   "outputs": [],
   "source": [
    "#| eval: false\n",
    "## NOTE TO SELF: DON'T RUN THIS ON STABILITY CLUSTER HEADNODE (But Jupyter nodes are fine)\n",
    "for sample in dataset:  \n",
    "    for k,v in sample.items():  # print the all entries in dict\n",
    "        print(f\"{k:20s} {repr(v)[:50]}\")\n",
    "    break                       # abort after first dict"
   ]
  },
  {
   "cell_type": "code",
   "execution_count": null,
   "id": "dcc8fa4d",
   "metadata": {},
   "outputs": [],
   "source": [
    "#| eval: false\n",
    "audio_keys = (\"skeez\",\"jop\")\n",
    "found_key, rewrite_key = '', ''\n",
    "for k,v in sample.items():  # print the all entries in dict\n",
    "    for akey in audio_keys:\n",
    "        if k.endswith(akey): \n",
    "            found_key, rewrite_key = k, akey\n",
    "            break\n",
    "    if '' != found_key: break \n",
    "if '' == found_key:  # got no audio!   \n",
    "    print(\"Error: No audio in this sample:\")\n",
    "    for k,v in sample.items():  # print the all entries in dict\n",
    "        print(f\"{k:20s} {repr(v)[:50]}\")"
   ]
  },
  {
   "cell_type": "markdown",
   "id": "f29d976e",
   "metadata": {},
   "source": [
    "There's a built-in decoder for various audio formats, so we can just use: "
   ]
  },
  {
   "cell_type": "code",
   "execution_count": null,
   "id": "b330f703",
   "metadata": {},
   "outputs": [],
   "source": [
    "#| eval: false\n",
    "dataset = wds.WebDataset(url).decode(wds.torch_audio) # throw out the json\n",
    "sample = next(iter(dataset))\n",
    "audio, sr = (sample[\"flac\"])\n",
    "playable_spectrogram(audio, specs='wave_mel', output_type='live')"
   ]
  },
  {
   "cell_type": "markdown",
   "id": "d5e09d83",
   "metadata": {},
   "source": [
    "Let's check the contents of the `georgeblood` Internet Archive:"
   ]
  },
  {
   "cell_type": "code",
   "execution_count": null,
   "id": "734d1cfd",
   "metadata": {},
   "outputs": [],
   "source": [
    "#|eval: false\n",
    "#urls = get_all_s3_urls(names=['georgeblood'], subsets=[], s3_url_prefix='s3://iarchive-stability/')\n",
    "urls = ['pipe:aws s3 cp s3://iarchive-stability/georgeblood/150370.tar -']\n",
    "dataset = wds.WebDataset(urls).decode(wds.torch_audio).shuffle(10)\n",
    "for sample in dataset:  \n",
    "    for k,v in sample.items():  # print the all entries in dict\n",
    "        print(f\"{k:20s} {repr(v)[:75]}\")\n",
    "    break  "
   ]
  },
  {
   "cell_type": "markdown",
   "id": "b6be38e5",
   "metadata": {},
   "source": [
    "Here's a utility routine we'll use further down:"
   ]
  },
  {
   "cell_type": "code",
   "execution_count": null,
   "id": "520e0cbc",
   "metadata": {},
   "outputs": [],
   "source": [
    "#|export \n",
    "def fix_double_slashes(s, debug=False):\n",
    "    \"aws is pretty unforgiving compared to 'normal' filesystems. so here's some 'cleanup'\"\n",
    "    cdsh_split = s.split('://')\n",
    "    assert (len(cdsh_split) <= 2) and (len(cdsh_split) > 0), f'what kind of string are you using? s={s}'\n",
    "    post = cdsh_split[-1]\n",
    "    while '//' in post: \n",
    "        post = post.replace('//','/')\n",
    "    if len(cdsh_split) > 1: \n",
    "        return cdsh_split[0] + '://' + post\n",
    "    else:\n",
    "        return post"
   ]
  },
  {
   "cell_type": "markdown",
   "id": "449d1045",
   "metadata": {},
   "source": [
    "Test that: "
   ]
  },
  {
   "cell_type": "code",
   "execution_count": null,
   "id": "d376f661",
   "metadata": {},
   "outputs": [],
   "source": [
    "s = 'pipe:aws s3 --cli-connect-timeout 0 cp s3://s-harmonai//datasets//ekto/1//ekto-000006.tar -'\n",
    "print(fix_double_slashes(s, debug=True))\n",
    "s = 'hey/ho//lets/go'\n",
    "print(fix_double_slashes(s, debug=True))"
   ]
  },
  {
   "cell_type": "markdown",
   "id": "80c0b432",
   "metadata": {},
   "source": [
    "### Non-contiguously-numbered lists of tar files...\n",
    "\n",
    "Here we'll just get individual URLs for every tar file possible for a given list of dataset names"
   ]
  },
  {
   "cell_type": "code",
   "execution_count": null,
   "id": "8491c3fb",
   "metadata": {},
   "outputs": [],
   "source": [
    "#|export \n",
    "\n",
    "def get_all_s3_urls(\n",
    "    names=['FSD50K'],    # list of all valid [LAION AudioDataset] dataset names \n",
    "    subsets=[''],   # list of subsets you want from those datasets, e.g. ['train','valid']\n",
    "    s3_url_prefix='s3://s-laion-audio/webdataset_tar/',   # prefix for those\n",
    "    recursive=True,  # recursively list all tar files in all subdirs\n",
    "    filter_str='tar', # only grab files with this substring\n",
    "    debug=False,     # print debugging info -- note: info displayed likely to change at dev's whims\n",
    "    ): \n",
    "    \"get urls of shards (tar files) for multiple datasets in one s3 bucket\"\n",
    "    if s3_url_prefix[-1] != '/':  s3_url_prefix = s3_url_prefix + '/'\n",
    "    urls = []\n",
    "    names = [''] if names == [] else names # for loop below\n",
    "    subsets = [''] if subsets == [] else subsets # for loop below\n",
    "    for name in names:\n",
    "        if debug: print(f\"get_all_s3_urls: {s3_url_prefix}{name}:\")\n",
    "        for subset in subsets:\n",
    "            contents_str = fix_double_slashes(f'{name}/{subset}/')\n",
    "            if debug: print(\"contents_str =\",contents_str)\n",
    "            tar_list = get_s3_contents(contents_str, s3_url_prefix=s3_url_prefix, recursive=recursive, filter=filter_str, debug=debug)\n",
    "            for tar in tar_list:\n",
    "                tar = tar.replace(\" \",\"\\ \").replace(\"(\",\"\\(\").replace(\")\",\"\\)\") # escape spaces and parentheses for shell\n",
    "                s3_path  = f\"{name}/{subset}/{tar} -\"\n",
    "                while '//' in s3_path:  # aws hates double-slashes\n",
    "                    s3_path = s3_path.replace('//','/')\n",
    "                request_str = f\"pipe:aws s3 --cli-connect-timeout 0 cp {s3_url_prefix}{s3_path}\" \n",
    "                if debug: print(\"request_str = \",request_str)\n",
    "                urls.append(fix_double_slashes(request_str))\n",
    "    #urls = [x.replace('tar//','tar/') for x in urls] # one last double-check\n",
    "    return urls"
   ]
  },
  {
   "cell_type": "code",
   "execution_count": null,
   "id": "89002f14",
   "metadata": {},
   "outputs": [],
   "source": [
    "#| eval: false\n",
    "urls = get_all_s3_urls(names=['ekto/1'], recursive=True, s3_url_prefix='s3://s-harmonai/datasets/', debug=False) # CJ's new dataset\n",
    "urls[0:10]  # let's just print 10 of them instead of the whole thing"
   ]
  },
  {
   "cell_type": "code",
   "execution_count": null,
   "id": "ac465a13",
   "metadata": {},
   "outputs": [],
   "source": [
    "#|eval: false\n",
    "urls = get_all_s3_urls(names=['georgeblood'], s3_url_prefix='s3://iarchive-stability/', subsets=[])\n",
    "len(urls)"
   ]
  },
  {
   "cell_type": "code",
   "execution_count": null,
   "id": "c3a39dc7",
   "metadata": {},
   "outputs": [],
   "source": [
    "#| export\n",
    "class IterableAudioDataset(torch.utils.data.IterableDataset):\n",
    "    \"Iterable version of AudioDataset, used with Chain (below)\"\n",
    "    def __init__(self, \n",
    "        paths,             # list of strings of directory (/tree) names to draw audio files from\n",
    "        sample_rate=48000, # audio sample rate in Hz\n",
    "        sample_size=65536, # how many audio samples in each \"chunk\"\n",
    "        random_crop=True,  # take chunks from random positions within files\n",
    "        load_frac=1.0,     # fraction of total dataset to load\n",
    "        cache_training_data=False,  # True = pre-load whole dataset into memory (not fully supported)\n",
    "        num_gpus=8,        # used only when `cache_training_data=True`, to avoid duplicates,\n",
    "        redraw_silence=True, # a chunk containing silence will be replaced with a new one\n",
    "        silence_thresh=-60,  # threshold in dB below which we declare to be silence\n",
    "        max_redraws=2,        # when redrawing silences, don't do it more than this many\n",
    "        augs='Stereo(), PhaseFlipper()', # list of augmentation transforms **after PadCrop**, as a string\n",
    "        verbose=False,       # whether to print notices of reasampling or not\n",
    "        ):\n",
    "        super().__init__()\n",
    "        self.this = AudioDataset(paths, sample_rate=sample_rate, sample_size=sample_size, random_crop=random_crop,\n",
    "                                load_frac=load_frac, cache_training_data=cache_training_data, num_gpus=num_gpus,\n",
    "                                redraw_silence=redraw_silence, silence_thresh=silence_thresh, max_redraws=max_redraws,\n",
    "                                augs=augs, verbose=verbose)\n",
    "        self.len = len(self.this)\n",
    "        \n",
    "    def __iter__(self):\n",
    "        yield self.this.__getitem__(random.randint(0, self.len))"
   ]
  },
  {
   "cell_type": "code",
   "execution_count": null,
   "id": "98cf4a9b",
   "metadata": {},
   "outputs": [],
   "source": [
    "#| eval: false\n",
    "iter_ds = IterableAudioDataset('/fsx/shawley/data/maestro', augs='Stereo(), NormInputs()')\n",
    "assert isinstance(iter_ds, torch.utils.data.IterableDataset),\"Nope\"\n",
    "sample = next(iter(iter_ds))\n",
    "playable_spectrogram(sample, specs='wave_mel', output_type='live')"
   ]
  },
  {
   "cell_type": "markdown",
   "id": "5faf8b6e",
   "metadata": {},
   "source": [
    "## HybridAudioDataset\n",
    "\n",
    "Combines local paths and WebDataset (s3:) datasets, streaming. Recommend leaving local_paths blank though, because underlying `torch.datasets.ChainDataset` won't let you randomly sample between local & web parts. "
   ]
  },
  {
   "cell_type": "code",
   "execution_count": null,
   "id": "995d8321",
   "metadata": {},
   "outputs": [],
   "source": [
    "#| export\n",
    "class HybridAudioDataset(torch.utils.data.IterableDataset):\n",
    "    \"Combines AudioDataset and WebDataset\"\n",
    "    def __init__(self, \n",
    "        local_paths:list,      # list of local paths names to draw audio files from (recursively)\n",
    "        webdataset_names:list,    # list of LAION Audiodataset or Internet Archive dataset names\n",
    "        sample_rate=48000, # audio sample rate in Hz\n",
    "        sample_size=65536, # how many audio samples in each \"chunk\"\n",
    "        random_crop=True,  # take chunks from random positions within files\n",
    "        load_frac=1.0,     # fraction of total dataset to load\n",
    "        cache_training_data=False,  # True = pre-load whole dataset into memory (not fully supported)\n",
    "        num_gpus=8,        # used only when `cache_training_data=True`, to avoid duplicates,\n",
    "        redraw_silence=True, # a chunk containing silence will be replaced with a new one\n",
    "        silence_thresh=-60,  # threshold in dB below which we declare to be silence\n",
    "        max_redraws=2,        # when redrawing silences, don't do it more than this many\n",
    "        augs='Stereo(), PhaseFlipper()', # list of augmentation transforms **after PadCrop**, as a string\n",
    "        verbose=False,      # whether to print notices of reasampling or not\n",
    "        subsets=[],         # can specify, e.g. ['train','valid'] to exclude 'test'. default= grab everything!\n",
    "        s3_url_prefixes=['s3://s-laion-audio/webdataset_tar/',\n",
    "                         's3://iarchive-stability/',\n",
    "                         's3://s-harmonai/datasets/'], # where to look on s3 for things\n",
    "        recursive=True,     # grab all tar files (\"shards\") recursively\n",
    "        debug=False,        # print debugging info\n",
    "        ):\n",
    "        \"Combines local paths and WebDataset (s3:) datasets, streaming. Recommend leaving local_paths blank\"\n",
    "        super().__init__()\n",
    "        \n",
    "        if isinstance(webdataset_names, str): webdataset_names = [webdataset_names] # if it's just a string, make it a list\n",
    "        base_augs = 'PadCrop(sample_size, randomize=random_crop, redraw_silence=redraw_silence, silence_thresh=silence_thresh, max_redraws=max_redraws)'\n",
    "        self.augs = eval(f'torch.nn.Sequential( {base_augs}, {augs} )')  \n",
    "        self.redraw_silence = redraw_silence\n",
    "        self.max_redraws = max_redraws\n",
    "        self.silence_thresh = silence_thresh\n",
    "\n",
    "        self.local_ds, self.web_ds, self.len = None, None, 0\n",
    "        # local paths\n",
    "        if len(local_paths) > 0:\n",
    "            self.local_ds = IterableAudioDataset(local_paths, sample_rate=sample_rate, sample_size=sample_size, random_crop=random_crop,\n",
    "                                    load_frac=load_frac, cache_training_data=cache_training_data, num_gpus=num_gpus,\n",
    "                                    redraw_silence=redraw_silence, silence_thresh=silence_thresh, max_redraws=max_redraws,\n",
    "                                    augs=None, verbose=verbose)  # do augs later\n",
    "        # web i.e. s3 paths\n",
    "        urls= []\n",
    "        for s3_url_prefix in s3_url_prefixes: # loop over various s3 bucket urls. this is maybe dumb/slow but generally will only execute once per run\n",
    "            subset_list = [] if 'laion' not in s3_url_prefix else subsets\n",
    "            urls0 = get_all_s3_urls(names=webdataset_names, subsets=subset_list, s3_url_prefix=s3_url_prefix, recursive=recursive, debug=debug)\n",
    "            if debug: print(\"urls0 = \\n\",urls0)\n",
    "            if len(urls0) > 0:  urls = urls + urls0\n",
    "        self.web_ds = wds.WebDataset(urls,  nodesplitter=wds.split_by_node).decode(wds.torch_audio).to_tuple(\"flac\") \n",
    "            \n",
    "        self.ds_list = []\n",
    "        if (self.local_ds != None): self.ds_list.append(self.local_ds)\n",
    "        if (self.web_ds != None): self.ds_list.append(self.web_ds)\n",
    "\n",
    "\n",
    "    def get_next_chunk(self):\n",
    "        ds_choice = random.choice(self.ds_list)  # randomly pick from available ds list\n",
    "        audio = untuple(next(iter(ds_choice)))   \n",
    "        if self.augs is not None: #Run augmentations on this sample (including random crop)\n",
    "            audio = self.augs(audio)\n",
    "        audio = audio.clamp(-1, 1)\n",
    "        return audio\n",
    "            \n",
    "        \n",
    "    def __iter__(self):\n",
    "        audio = self.get_next_chunk()\n",
    "        num_redraws = 0 \n",
    "        while (audio is None) or (self.redraw_silence and is_silence(audio, thresh=self.silence_thresh) \\\n",
    "            and (num_redraws < self.max_redraws)):\n",
    "            audio, num_redraws = self.get_next_chunk(), num_redraws+1\n",
    "\n",
    "        yield audio"
   ]
  },
  {
   "cell_type": "markdown",
   "id": "3c7e9ea0",
   "metadata": {},
   "source": [
    "Test that:"
   ]
  },
  {
   "cell_type": "code",
   "execution_count": null,
   "id": "18427ec7",
   "metadata": {},
   "outputs": [],
   "source": [
    "#|eval: false\n",
    "my_ds = HybridAudioDataset(['/fsx/shawley/data/maestro'], ['FSD50K','georgeblood'], subsets=['train'])\n",
    "sample = next(iter(my_ds))\n",
    "playable_spectrogram(sample, specs='wave_mel', output_type='live')"
   ]
  },
  {
   "cell_type": "code",
   "execution_count": null,
   "id": "11fa4e6a",
   "metadata": {},
   "outputs": [],
   "source": [
    "#| eval: false\n",
    "sample = next(iter(my_ds))\n",
    "playable_spectrogram(sample, specs='wave_mel', output_type='live')"
   ]
  },
  {
   "cell_type": "markdown",
   "id": "a1330fec",
   "metadata": {},
   "source": [
    "Notice how these are both piano?  Thats because...\n",
    " `torch.data.ChainDatasets` won't randomly sample across all datasets, rather in proceeds through them in sequential order -- which, maybe you want that!  But otherwise, I (Hawley) recommend calling `HybridAudioDataset` with *no local paths*.  As in, let's try to the `ekto` dataset: "
   ]
  },
  {
   "cell_type": "code",
   "execution_count": null,
   "id": "8cb6d504",
   "metadata": {},
   "outputs": [],
   "source": [
    "#| eval: false\n",
    "my_ds = HybridAudioDataset([], ['ekto/1'], debug=False)\n",
    "sample = next(iter(my_ds))\n",
    "playable_spectrogram(sample, specs='wave_mel', output_type='live')"
   ]
  },
  {
   "cell_type": "markdown",
   "id": "0433aea7",
   "metadata": {},
   "source": [
    "## QuickWebDataLoader\n",
    "Another option in case `HybridAudioDataset` is too clunky or massive.  This is a \"quickie\" setup that *may* work in many cases. "
   ]
  },
  {
   "cell_type": "code",
   "execution_count": null,
   "id": "98510c7f",
   "metadata": {},
   "outputs": [],
   "source": [
    "#| export\n",
    "def wds_preprocess(sample, sample_size=65536, sample_rate=48000, verbose=False):\n",
    "    \"utility routine for QuickWebDataLoader, below\"\n",
    "    audio_keys = (\"flac\", \"wav\", \"mp3\", \"aiff\")\n",
    "    found_key, rewrite_key = '', ''\n",
    "    for k,v in sample.items():  # print the all entries in dict\n",
    "        for akey in audio_keys:\n",
    "            if k.endswith(akey): \n",
    "                found_key, rewrite_key = k, akey  # to rename long/weird key with its simpler counterpart\n",
    "                break\n",
    "        if '' != found_key: break \n",
    "    if '' == found_key:  # got no audio!   \n",
    "        print(\"  Error: No audio in this sample:\")\n",
    "        for k,v in sample.items():  # print the all entries in dict\n",
    "            print(f\"    {k:20s} {repr(v)[:50]}\")\n",
    "        print(\"       Skipping it.\")\n",
    "        return None  # try returning None to tell WebDataset to skip this one ?   \n",
    "    \n",
    "    audio, in_sr = sample[found_key]\n",
    "    if in_sr != sample_rate:\n",
    "        if verbose: print(f\"Resampling {filename} from {in_sr} Hz to {sample_rate} Hz\",flush=True)\n",
    "        resample_tf = T.Resample(in_sr, sample_rate)\n",
    "        audio = resample_tf(audio)        \n",
    "    myop = torch.nn.Sequential(PadCrop(sample_size), Stereo(), PhaseFlipper())\n",
    "    audio = myop(audio)\n",
    "    if found_key != rewrite_key:   # rename long/weird key with its simpler counterpart\n",
    "        del sample[found_key]\n",
    "    sample[rewrite_key] = audio    \n",
    "    return sample"
   ]
  },
  {
   "cell_type": "code",
   "execution_count": null,
   "id": "4cecea9a",
   "metadata": {},
   "outputs": [],
   "source": [
    "#| export\n",
    "def QuickWebDataLoader(\n",
    "    names=['ekto/1'], # names of datasets. will search laion, harmonai & IA s3 buckets for these\n",
    "    sample_size=65536, # how long each sample to grab via PadCrop\n",
    "    sample_rate=48000, # standard sr in Hz\n",
    "    num_workers=4,    # in the PyTorch DataLoader sense\n",
    "    batch_size=4,     # typical batch size\n",
    "    audio_file_ext='flac',  # yep this one only supports one extension at a time. try HybridAudioDataset for more\n",
    "    shuffle_vals=[1000, 10000],  # values passed into shuffle as per WDS tutorials\n",
    "    epoch_len=1000,    # how many passes/loads make for an epoch? wds part of this is not well documented IMHO\n",
    "    debug=False,       # print info on internal workings\n",
    "    verbose=False,     # not quite the same as debug. print things like notices of resampling\n",
    "    callback=wds_preprocess, # function to call for additional user-based processing\n",
    "    **kwargs,          # what else to pass to callback\n",
    "    ):\n",
    "    \"Minimal/quick implementation: Sets up a WebDataLoader with some typical defaults\"\n",
    "    print(\"Note: 'Broken pipe' messages you might get aren't a big deal, but may indicate files that are too big.\")\n",
    "    if names is not list: names = [names]\n",
    "    urls = get_all_s3_urls(names=names, recursive=True, debug=debug) \n",
    "    if debug: print(\"urls =\\n\",urls)\n",
    "    dataset = wds.DataPipeline(\n",
    "        wds.ResampledShards(urls),\n",
    "        wds.tarfile_to_samples(),\n",
    "        wds.shuffle(shuffle_vals[0]),\n",
    "        wds.decode(wds.torch_audio),\n",
    "        wds.map(partial(callback, sample_size=sample_size, sample_rate=sample_rate, verbose=verbose, **kwargs)),\n",
    "        wds.shuffle(shuffle_vals[1]),\n",
    "        wds.to_tuple(audio_file_ext),\n",
    "        wds.batched(batch_size)\n",
    "    ).with_epoch(epoch_len)\n",
    "    return wds.WebLoader(dataset, num_workers=num_workers)"
   ]
  },
  {
   "cell_type": "code",
   "execution_count": null,
   "id": "1248af08",
   "metadata": {},
   "outputs": [],
   "source": [
    "#| eval: false\n",
    "train_dl = QuickWebDataLoader(names='FSD50K', debug=False, verbose=True)\n",
    "audio_batch = next(iter(train_dl))[0].squeeze()\n",
    "print(\"audio_batch.shape = \",audio_batch.shape)\n",
    "playable_spectrogram(audio_batch[0], specs='wave_mel', output_type='live')"
   ]
  },
  {
   "cell_type": "code",
   "execution_count": null,
   "id": "a0ac8c93",
   "metadata": {},
   "outputs": [],
   "source": [
    "#| hide\n",
    "from nbdev import nbdev_export\n",
    "nbdev_export()"
   ]
  },
  {
   "cell_type": "raw",
   "id": "4ef04820",
   "metadata": {},
   "source": []
  }
 ],
 "metadata": {
  "kernelspec": {
   "display_name": "Python 3 (ipykernel)",
   "language": "python",
   "name": "python3"
  }
 },
 "nbformat": 4,
 "nbformat_minor": 5
}
