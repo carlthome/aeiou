{
 "cells": [
  {
   "cell_type": "code",
   "execution_count": null,
   "id": "d404833b",
   "metadata": {},
   "outputs": [],
   "source": [
    "%load_ext autoreload\n",
    "%autoreload 2"
   ]
  },
  {
   "cell_type": "code",
   "execution_count": null,
   "id": "9d2cefc8",
   "metadata": {},
   "outputs": [],
   "source": [
    "#| default_exp chunkadelic"
   ]
  },
  {
   "cell_type": "markdown",
   "id": "5d79fbe5",
   "metadata": {},
   "source": [
    "# chunkadelic"
   ]
  },
  {
   "cell_type": "markdown",
   "id": "262d835a",
   "metadata": {},
   "source": [
    "\n",
    "> Console script for preprocessing dataset of disparate-sized audio files into uniform chunks\n",
    "\n",
    "Note: Duplicates the directory structure(s) referenced by input paths. "
   ]
  },
  {
   "cell_type": "code",
   "execution_count": null,
   "id": "0be2e849",
   "metadata": {},
   "outputs": [],
   "source": [
    "#|hide\n",
    "from nbdev.showdoc import *"
   ]
  },
  {
   "cell_type": "code",
   "execution_count": null,
   "id": "72c40976",
   "metadata": {},
   "outputs": [],
   "source": [
    "#|all_slow"
   ]
  },
  {
   "cell_type": "code",
   "execution_count": null,
   "id": "5df76a87",
   "metadata": {},
   "outputs": [],
   "source": [
    "#|export\n",
    "import argparse \n",
    "import os \n",
    "from multiprocessing import Pool, cpu_count, Barrier\n",
    "from functools import partial\n",
    "from tqdm.contrib.concurrent import process_map  \n",
    "import torch\n",
    "import torchaudio\n",
    "import math\n",
    "from aeiou.core import is_silence, load_audio, makedir, get_audio_filenames, normalize_audio, loudness, get_dbmax"
   ]
  },
  {
   "cell_type": "code",
   "execution_count": null,
   "id": "519f8740",
   "metadata": {},
   "outputs": [],
   "source": [
    "#|export\n",
    "def blow_chunks(\n",
    "    audio:torch.tensor,  # long audio file to be chunked\n",
    "    new_filename:str,    # stem of new filename(s) to be output as chunks\n",
    "    chunk_size:int,      # how big each audio chunk is, in samples\n",
    "    sr=48000,            # audio sample rate in Hz\n",
    "    norm=False,          # normalize input audio, based on the max of the absolute value [global/channel]\n",
    "    chunk_norm=False,    # normalize outputted chunks, based on the max of the absolute value [global/channel]\n",
    "    spacing=0.5,         # fraction of each chunk to advance between hops\n",
    "    strip=False,    # strip silence: chunks with max power in dB below this value will not be saved to files\n",
    "    thresh=-70      # threshold in dB for determining what counts as silence \n",
    "    ):\n",
    "    \"chunks up the audio and saves them with --{i} on the end of each chunk filename\"\n",
    "    chunk = torch.zeros(audio.shape[0], chunk_size)\n",
    "    _, ext = os.path.splitext(new_filename)\n",
    "    \n",
    "    # normalize audio if requested \n",
    "    if norm is True: # handle the most likely improper response defaulted to 'global'\n",
    "        norm = 'global'\n",
    "    if norm in ['global','channel']:       \n",
    "        audio_norm =    normalize_audio(audio, norm)     \n",
    "        gain_db =  abs(get_dbmax(audio)) - abs(get_dbmax(audio_norm))   \n",
    "        if gain_db > 0:\n",
    "            print(f\"normalized {new_filename} with type {norm} creating {gain_db}dB change \", flush=True)\n",
    "            audio=audio_norm\n",
    "        #implicty revert if it enquietens \n",
    "\n",
    "    spacing = 0.5 if spacing is 0 else spacing # handle degenerate case as a request for the defaults\n",
    "    \n",
    "    start, i = 0, 0\n",
    "    while start < audio.shape[-1]:\n",
    "        out_filename = new_filename.replace(ext, f'--{i}'+ext) \n",
    "        end = min(start + chunk_size, audio.shape[-1])\n",
    "        if end-start < chunk_size:  # needs zero padding on end\n",
    "            chunk = torch.zeros(audio.shape[0], chunk_size)\n",
    "        chunk[:,0:end-start] = audio[:,start:end]\n",
    "        chunk = normalize_audio(chunk, norm) if chunk_norm else chunk\n",
    "        if (not strip) or (not is_silence(chunk, thresh=thresh)):\n",
    "            torchaudio.save(out_filename, chunk, sr)\n",
    "        else:\n",
    "            print(f\"skipping chunk {out_filename} because it's 'silent' (below threhold of {thresh} dB).\",flush=True)\n",
    "        start, i = start + int(spacing * chunk_size), i + 1\n",
    "    return "
   ]
  },
  {
   "cell_type": "code",
   "execution_count": null,
   "id": "2fc2b499",
   "metadata": {},
   "outputs": [],
   "source": [
    "#|export \n",
    "def process_one_file(\n",
    "    filenames:list,      # list of filenames from which we'll pick one\n",
    "    args,                # output of argparse\n",
    "    file_ind             # index from filenames list to read from\n",
    "    ):\n",
    "    \"this chunks up one file\"\n",
    "    filename = filenames[file_ind]  # this is actually input_path+/+filename\n",
    "    output_path, input_paths = args.output_path, args.input_paths\n",
    "    new_filename = None\n",
    "    \n",
    "    for ipath in input_paths: # set up the output filename & any folders it needs\n",
    "        if args.nomix and ('Mix' in ipath) and ('Audio Files' in path): return  # this is specific to the BDCT dataset, otherwise ignore\n",
    "        if ipath in filename:\n",
    "            last_ipath = ipath.split('/')[-1]           # get the last part of ipath\n",
    "            clean_filename = filename.replace(ipath,'') # remove all of ipath from the front of filename\n",
    "            new_filename = f\"{output_path}/{last_ipath}/{clean_filename}\".replace('//','/') \n",
    "            makedir(os.path.dirname(new_filename))      # we might need to make a directory for the output file\n",
    "            break\n",
    "    \n",
    "    if new_filename is None:\n",
    "        print(f\"ERROR: Something went wrong with name of input file {filename}. Skipping.\",flush=True) \n",
    "        return \n",
    "    try:\n",
    "        audio = load_audio(filename, sr=args.sr)\n",
    "        blow_chunks(audio, new_filename, args.chunk_size, sr=args.sr, norm=args.norm, spacing=args.spacing, strip=args.strip, thresh=args.thresh)\n",
    "    except Exception as e: \n",
    "        print(f\"Error loading {filename} or writing chunks. Skipping.\", flush=True)\n",
    "\n",
    "    return"
   ]
  },
  {
   "cell_type": "code",
   "execution_count": null,
   "id": "56e01f54",
   "metadata": {},
   "outputs": [],
   "source": [
    "#|export\n",
    "def main():\n",
    "    parser = argparse.ArgumentParser(formatter_class=argparse.ArgumentDefaultsHelpFormatter)\n",
    "    parser.add_argument('--chunk_size', type=int, default=2**17, help='Length of chunks')\n",
    "    parser.add_argument('--sr', type=int, default=48000, help='Output sample rate')\n",
    "    parser.add_argument('--norm', action='store_true', help='Normalize audio, based on the max of the absolute value [global/channel]')\n",
    "    parser.add_argument('--chunk_norm', action='store_true', help='Normalize outputted chunks [global/channel]')\n",
    "    parser.add_argument('--spacing', type=float, default=0.5, help='Spacing factor, advance this fraction of a chunk per copy')\n",
    "    parser.add_argument('--strip', action='store_true', help='Strips silence: chunks with max dB below <thresh> are not outputted')\n",
    "    parser.add_argument('--thresh', type=int, default=-70, help='threshold in dB for determining what constitutes silence')\n",
    "    parser.add_argument('--workers', type=int, default=min(32, os.cpu_count() + 4), help='Maximum number of workers to use (default: all)')\n",
    "    parser.add_argument('--nomix', action='store_true',  help='(BDCT Dataset specific) exclude output of \"*/Audio Files/*Mix*\"')\n",
    "    parser.add_argument('output_path', help='Path of output for chunkified data')\n",
    "    parser.add_argument('input_paths', nargs='+', help='Path(s) of a file or a folder of files. (recursive)')\n",
    "    args = parser.parse_args()\n",
    "\n",
    "    print(f\"  output_path = {args.output_path}\")\n",
    "    print(f\"  chunk_size = {args.chunk_size}\")\n",
    "\n",
    "    print(\"Getting list of input filenames\")\n",
    "    filenames = get_audio_filenames(args.input_paths) \n",
    "    n = len(filenames)   \n",
    "    print(f\"  Got {n} input filenames\") \n",
    "\n",
    "    print(\"Processing files (in parallel)\")\n",
    "    wrapper = partial(process_one_file, filenames, args)\n",
    "    r = process_map(wrapper, range(0, n), chunksize=1, max_workers=args.workers)  # different chunksize used by tqdm. max_workers is to avoid annoying other ppl\n",
    "\n",
    "    print(\"Finished\")"
   ]
  },
  {
   "cell_type": "code",
   "execution_count": null,
   "id": "af8472be",
   "metadata": {},
   "outputs": [
    {
     "name": "stdout",
     "output_type": "stream",
     "text": [
      "usage: chunkadelic [-h] [--chunk_size CHUNK_SIZE] [--sr SR] [--norm]\n",
      "                   [--chunk_norm] [--spacing SPACING] [--strip]\n",
      "                   [--thresh THRESH] [--workers WORKERS] [--nomix]\n",
      "                   output_path input_paths [input_paths ...]\n",
      "\n",
      "positional arguments:\n",
      "  output_path           Path of output for chunkified data\n",
      "  input_paths           Path(s) of a file or a folder of files. (recursive)\n",
      "\n",
      "optional arguments:\n",
      "  -h, --help            show this help message and exit\n",
      "  --chunk_size CHUNK_SIZE\n",
      "                        Length of chunks (default: 131072)\n",
      "  --sr SR               Output sample rate (default: 48000)\n",
      "  --norm                Normalize audio, based on the max of the absolute\n",
      "                        value [global/channel] (default: False)\n",
      "  --chunk_norm          Normalize outputted chunks [global/channel] (default:\n",
      "                        False)\n",
      "  --spacing SPACING     Spacing factor, advance this fraction of a chunk per\n",
      "                        copy (default: 0.5)\n",
      "  --strip               Strips silence: chunks with max dB below <thresh> are\n",
      "                        not outputted (default: False)\n",
      "  --thresh THRESH       threshold in dB for determining what constitutes\n",
      "                        silence (default: -70)\n",
      "  --workers WORKERS     Maximum number of workers to use (default: all)\n",
      "                        (default: 5)\n",
      "  --nomix               (BDCT Dataset specific) exclude output of \"*/Audio\n",
      "                        Files/*Mix*\" (default: False)\n"
     ]
    }
   ],
   "source": [
    "! chunkadelic -h"
   ]
  },
  {
   "cell_type": "code",
   "execution_count": null,
   "id": "1bf27260",
   "metadata": {},
   "outputs": [],
   "source": [
    "#| hide\n",
    "from nbdev import nbdev_export\n",
    "nbdev_export()"
   ]
  },
  {
   "cell_type": "code",
   "execution_count": null,
   "id": "766d0462",
   "metadata": {},
   "outputs": [],
   "source": []
  }
 ],
 "metadata": {
  "kernelspec": {
   "display_name": "Python 3.8.10 ('aeiou')",
   "language": "python",
   "name": "python3"
  }
 },
 "nbformat": 4,
 "nbformat_minor": 5
}
