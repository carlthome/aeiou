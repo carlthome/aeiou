{
 "cells": [
  {
   "cell_type": "code",
   "execution_count": null,
   "id": "d404833b",
   "metadata": {},
   "outputs": [],
   "source": [
    "%load_ext autoreload\n",
    "%autoreload 2"
   ]
  },
  {
   "cell_type": "code",
   "execution_count": null,
   "id": "9d2cefc8",
   "metadata": {},
   "outputs": [],
   "source": [
    "#| default_exp chunkadelic"
   ]
  },
  {
   "cell_type": "markdown",
   "id": "5d79fbe5",
   "metadata": {},
   "source": [
    "# chunkadelic"
   ]
  },
  {
   "cell_type": "markdown",
   "id": "262d835a",
   "metadata": {},
   "source": [
    "\n",
    "> Console script and callable function for preprocessing dataset of disparate-sized audio files into uniform chunks\n",
    "\n",
    "Note: Duplicates the directory structure(s) referenced by input paths. "
   ]
  },
  {
   "cell_type": "code",
   "execution_count": null,
   "id": "0be2e849",
   "metadata": {},
   "outputs": [],
   "source": [
    "#|hide\n",
    "from nbdev.showdoc import *"
   ]
  },
  {
   "cell_type": "code",
   "execution_count": null,
   "id": "5df76a87",
   "metadata": {},
   "outputs": [],
   "source": [
    "#|export\n",
    "import argparse \n",
    "import os \n",
    "from multiprocessing import Pool, cpu_count, Barrier\n",
    "from functools import partial\n",
    "from tqdm.contrib.concurrent import process_map  \n",
    "import torch\n",
    "import torchaudio\n",
    "import math\n",
    "from aeiou.core import is_silence, load_audio, makedir, get_audio_filenames, normalize_audio, get_dbmax"
   ]
  },
  {
   "cell_type": "code",
   "execution_count": null,
   "id": "519f8740",
   "metadata": {},
   "outputs": [],
   "source": [
    "#|export\n",
    "def blow_chunks(\n",
    "    audio:torch.tensor,  # long audio file to be chunked\n",
    "    new_filename:str,    # stem of new filename(s) to be output as chunks\n",
    "    chunk_size:int,      # how big each audio chunk is, in samples\n",
    "    sr=48000,            # audio sample rate in Hz\n",
    "    norm='False',      # normalize input audio, based on the max of the absolute value ['global','channel', or anything else for None, e.g. False]\n",
    "    spacing=0.5,         # fraction of each chunk to advance between hops\n",
    "    strip=False,    # strip silence: chunks with max power in dB below this value will not be saved to files\n",
    "    thresh=-70      # threshold in dB for determining what counts as silence \n",
    "    ):\n",
    "    \"chunks up the audio and saves them with --{i} on the end of each chunk filename\"\n",
    "    chunk = torch.zeros(audio.shape[0], chunk_size)\n",
    "    _, ext = os.path.splitext(new_filename)\n",
    "    \n",
    "    # normalize audio if requested \n",
    "    #SHH if norm is True: # handle the most likely improper response defaulted to 'global'\n",
    "    #SHH     norm = 'global'\n",
    "    if norm in ['global','channel']:       \n",
    "        audio = normalize_audio(audio, norm)     \n",
    "        #SHH gain_db = abs(get_dbmax(audio)) - abs(get_dbmax(audio_norm)) \n",
    "        #SHH print(\"\")\n",
    "        #SHH print(f\"normalized {new_filename} with type {norm} creating {gain_db} dB change \", flush=True)\n",
    "        #SHH audio=audio_norm\n",
    "\n",
    "    spacing = 0.5 if spacing == 0 else spacing # handle degenerate case as a request for the defaults\n",
    "    \n",
    "    start, i = 0, 0\n",
    "    while start < audio.shape[-1]:\n",
    "        out_filename = new_filename.replace(ext, f'--{i}'+ext) \n",
    "        end = min(start + chunk_size, audio.shape[-1])\n",
    "        if end-start < chunk_size:  # needs zero padding on end\n",
    "            chunk = torch.zeros(audio.shape[0], chunk_size)\n",
    "        chunk[:,0:end-start] = audio[:,start:end]\n",
    "        if (not strip) or (not is_silence(chunk, thresh=thresh)):\n",
    "            torchaudio.save(out_filename, chunk, sr)\n",
    "        else:\n",
    "            print(f\"skipping chunk {out_filename} because it's 'silent' (below threhold of {thresh} dB).\",flush=True)\n",
    "        start, i = start + int(spacing * chunk_size), i + 1\n",
    "    return "
   ]
  },
  {
   "cell_type": "code",
   "execution_count": null,
   "id": "2fc2b499",
   "metadata": {},
   "outputs": [],
   "source": [
    "#|export \n",
    "def process_one_file(\n",
    "    filenames:list,      # list of filenames from which we'll pick one\n",
    "    file_ind,            # index of file in filenames list\n",
    "    output_path='test_chunks',\n",
    "    input_paths=['examples/'], \n",
    "    chunk_size=131072, \n",
    "    norm='False',       # anything other than 'global' or 'channel' will yield no normalization \n",
    "    spacing=0.5, \n",
    "    sr=48000, \n",
    "    strip=False, \n",
    "    thresh=-70, \n",
    "    nomix=False,         # exclude 'Mix' outputs from Belmont BDCT dataset\n",
    "    ):\n",
    "    \"this chunks up one file\"\n",
    "    filename = filenames[file_ind]  # this is actually input_path+/+filename\n",
    "    new_filename = None\n",
    "    \n",
    "    for ipath in input_paths: # set up the output filename & any folders it needs\n",
    "        if nomix and ('Mix' in ipath) and ('Audio Files' in ipath): return  # this is specific to the BDCT dataset, otherwise ignore\n",
    "        if ipath in filename:\n",
    "            last_ipath = ipath.split('/')[-1]           # get the last part of ipath\n",
    "            clean_filename = filename.replace(ipath,'') # remove all of ipath from the front of filename\n",
    "            new_filename = f\"{output_path}/{last_ipath}/{clean_filename}\".replace('//','/') \n",
    "            makedir(os.path.dirname(new_filename))      # we might need to make a directory for the output file\n",
    "            break\n",
    "    \n",
    "    if new_filename is None:\n",
    "        print(f\"ERROR: Something went wrong with name of input file {filename}. Skipping.\",flush=True) \n",
    "        return \n",
    "    #try:\n",
    "    audio = load_audio(filename, sr=sr)\n",
    "    blow_chunks(audio, new_filename, chunk_size, sr=sr, norm=norm, spacing=spacing, strip=strip, thresh=thresh)\n",
    "    #except Exception as e: \n",
    "    #    print(f\"Error '{e}' while loading {filename} or writing chunks. Skipping.\", flush=True)\n",
    "\n",
    "    return"
   ]
  },
  {
   "cell_type": "code",
   "execution_count": null,
   "id": "821ff48d",
   "metadata": {},
   "outputs": [],
   "source": [
    "#|export\n",
    "def chunkadelic(\n",
    "    # see argparse setup for meanings of all vars\n",
    "    output_path='test_chunk',\n",
    "    input_paths=['examples/'], \n",
    "    chunk_size=131072, \n",
    "    norm='', \n",
    "    spacing=0.5, \n",
    "    sr=48000, \n",
    "    strip=False, \n",
    "    thresh=-70, \n",
    "    workers=14,\n",
    "    nomix=False, \n",
    "    verbose=True, # whether to include print statements or not showing progress\n",
    "    ):\n",
    "    \"function version of main CLI; multiprocessing wrapper calls process_one_file\"\n",
    "    if verbose:\n",
    "        print(\"chunkadelic:\")\n",
    "        print(f\"   output_path = {output_path}\")\n",
    "        print(f\"   input_paths = {input_paths}\")\n",
    "        print(f\"   chunk_size  = {chunk_size}\")\n",
    "        print(f\"   norm        = {norm}\")\n",
    "        print(f\"   spacing     = {spacing}\")\n",
    "        print(f\"   sr          = {sr}\")\n",
    "        print(f\"   strip       = {strip}\")\n",
    "        print(f\"   thresh      = {thresh}\")\n",
    "        print(f\"   workers     = {workers}\")\n",
    "        print(f\"   nomix       = {nomix}\")\n",
    "        print(\"Getting list of input filenames\")\n",
    "    filenames = get_audio_filenames(input_paths) \n",
    "    n = len(filenames)   \n",
    "    if verbose:\n",
    "        print(f\"  Got {n} input filenames\") \n",
    "        print(\"Processing files (in parallel)\")\n",
    "        if not (norm in ['global','channel']): \n",
    "            print(f\"Warning: since norm = {norm}, no normalizations will be performed.\")\n",
    "            \n",
    "    wrapper = partial(process_one_file, filenames, \n",
    "                      output_path=output_path, input_paths=input_paths, chunk_size=chunk_size,\n",
    "                      norm=norm, spacing=spacing, sr=sr, strip=strip, thresh=thresh, nomix=nomix, )\n",
    "    r = process_map(wrapper, range(0, n), chunksize=1, max_workers=workers)  # chunksize is unfortunate coincidental name used by tqdm, nothing to do with audio chunk size\n",
    "\n",
    "    if verbose: print(\"Finished\")    "
   ]
  },
  {
   "cell_type": "markdown",
   "id": "f3c24fb9",
   "metadata": {},
   "source": [
    "Testing `chunkadelic` function:"
   ]
  },
  {
   "cell_type": "code",
   "execution_count": null,
   "id": "ef6221e4",
   "metadata": {},
   "outputs": [
    {
     "name": "stdout",
     "output_type": "stream",
     "text": [
      "chunkadelic:\n",
      "   output_path = test_chunk\n",
      "   input_paths = ['examples/']\n",
      "   chunk_size  = 131072\n",
      "   norm        = global\n",
      "   spacing     = 0.5\n",
      "   sr          = 48000\n",
      "   strip       = False\n",
      "   thresh      = -70\n",
      "   workers     = 14\n",
      "   nomix       = False\n",
      "Getting list of input filenames\n",
      "  Got 2 input filenames\n",
      "Processing files (in parallel)\n"
     ]
    },
    {
     "data": {
      "application/vnd.jupyter.widget-view+json": {
       "model_id": "4f0ec2eada564bf6a547e863b3342f31",
       "version_major": 2,
       "version_minor": 0
      },
      "text/plain": [
       "  0%|          | 0/2 [00:00<?, ?it/s]"
      ]
     },
     "metadata": {},
     "output_type": "display_data"
    },
    {
     "name": "stdout",
     "output_type": "stream",
     "text": [
      "Resampling examples/example.wav from 44100 Hz to 48000 Hz\n",
      "Finished\n"
     ]
    }
   ],
   "source": [
    "chunkadelic(norm='global', verbose=True)"
   ]
  },
  {
   "cell_type": "code",
   "execution_count": null,
   "id": "56e01f54",
   "metadata": {},
   "outputs": [],
   "source": [
    "#|export\n",
    "def main():\n",
    "    parser = argparse.ArgumentParser(formatter_class=argparse.ArgumentDefaultsHelpFormatter)\n",
    "    parser.add_argument('--chunk_size', type=int, default=2**17, help='Length of chunks')\n",
    "    parser.add_argument('--sr', type=int, default=48000, help='Output sample rate')\n",
    "    parser.add_argument('--norm', default='False', const='False', nargs='?', choices=['False', 'global', 'channel'],\n",
    "                   help='Normalize audio, based on the max of the absolute value [global/channel/False]')\n",
    "    parser.add_argument('--spacing', type=float, default=0.5, help='Spacing factor, advance this fraction of a chunk per copy')\n",
    "    parser.add_argument('--strip', action='store_true', help='Strips silence: chunks with max dB below <thresh> are not outputted')\n",
    "    parser.add_argument('--thresh', type=int, default=-70, help='threshold in dB for determining what constitutes silence')\n",
    "    parser.add_argument('--workers', type=int, default=min(32, os.cpu_count() + 4), help='Maximum number of workers to use (default: all)')\n",
    "    parser.add_argument('--nomix', action='store_true',  help='(BDCT Dataset specific) exclude output of \"*/Audio Files/*Mix*\"')\n",
    "    parser.add_argument('output_path', help='Path of output for chunkified data')\n",
    "    parser.add_argument('input_paths', nargs='+', help='Path(s) of a file or a folder of files. (recursive)')\n",
    "    #args = parser.parse_args()\n",
    "    args = {k:v for k,v in vars(parser.parse_args()).items() if v is not None} # convert to dict\n",
    "    \n",
    "    chunkadelic(**args, verbose=True)"
   ]
  },
  {
   "cell_type": "code",
   "execution_count": null,
   "id": "1bf27260",
   "metadata": {},
   "outputs": [],
   "source": [
    "#| hide\n",
    "from nbdev import nbdev_export\n",
    "nbdev_export()"
   ]
  },
  {
   "cell_type": "code",
   "execution_count": null,
   "id": "af8472be",
   "metadata": {},
   "outputs": [
    {
     "name": "stdout",
     "output_type": "stream",
     "text": [
      "usage: chunkadelic [-h] [--chunk_size CHUNK_SIZE] [--sr SR]\r\n",
      "                   [--norm [{False,global,channel}]] [--spacing SPACING]\r\n",
      "                   [--strip] [--thresh THRESH] [--workers WORKERS] [--nomix]\r\n",
      "                   output_path input_paths [input_paths ...]\r\n",
      "\r\n",
      "positional arguments:\r\n",
      "  output_path           Path of output for chunkified data\r\n",
      "  input_paths           Path(s) of a file or a folder of files. (recursive)\r\n",
      "\r\n",
      "optional arguments:\r\n",
      "  -h, --help            show this help message and exit\r\n",
      "  --chunk_size CHUNK_SIZE\r\n",
      "                        Length of chunks (default: 131072)\r\n",
      "  --sr SR               Output sample rate (default: 48000)\r\n",
      "  --norm [{False,global,channel}]\r\n",
      "                        Normalize audio, based on the max of the absolute\r\n",
      "                        value [global/channel/False] (default: False)\r\n",
      "  --spacing SPACING     Spacing factor, advance this fraction of a chunk per\r\n",
      "                        copy (default: 0.5)\r\n",
      "  --strip               Strips silence: chunks with max dB below <thresh> are\r\n",
      "                        not outputted (default: False)\r\n",
      "  --thresh THRESH       threshold in dB for determining what constitutes\r\n",
      "                        silence (default: -70)\r\n",
      "  --workers WORKERS     Maximum number of workers to use (default: all)\r\n",
      "                        (default: 14)\r\n",
      "  --nomix               (BDCT Dataset specific) exclude output of \"*/Audio\r\n",
      "                        Files/*Mix*\" (default: False)\r\n"
     ]
    }
   ],
   "source": [
    "! chunkadelic -h"
   ]
  },
  {
   "cell_type": "markdown",
   "id": "0ecd62d3",
   "metadata": {},
   "source": [
    "\n",
    "---\n",
    "Testing of CLI run:"
   ]
  },
  {
   "cell_type": "code",
   "execution_count": null,
   "id": "b7ff61bf",
   "metadata": {},
   "outputs": [],
   "source": [
    "import subprocess"
   ]
  },
  {
   "cell_type": "code",
   "execution_count": null,
   "id": "9009283f",
   "metadata": {},
   "outputs": [
    {
     "name": "stdout",
     "output_type": "stream",
     "text": [
      "-----\n",
      " norm = False\n"
     ]
    },
    {
     "name": "stderr",
     "output_type": "stream",
     "text": [
      "100%|██████████| 2/2 [00:03<00:00,  1.79s/it]\n"
     ]
    },
    {
     "name": "stdout",
     "output_type": "stream",
     "text": [
      "chunkadelic:\n",
      "   output_path = test_chunks\n",
      "   input_paths = ['examples/']\n",
      "   chunk_size  = 131072\n",
      "   norm        = False\n",
      "   spacing     = 0.5\n",
      "   sr          = 48000\n",
      "   strip       = False\n",
      "   thresh      = -70\n",
      "   workers     = 14\n",
      "   nomix       = False\n",
      "Getting list of input filenames\n",
      "  Got 2 input filenames\n",
      "Processing files (in parallel)\n",
      "Warning: since norm = False, no normalizations will be performed.\n",
      "Resampling examples/example.wav from 44100 Hz to 48000 Hz\n",
      "Finished\n",
      "\n",
      "-----\n",
      " norm = global\n"
     ]
    },
    {
     "name": "stderr",
     "output_type": "stream",
     "text": [
      "100%|██████████| 2/2 [00:03<00:00,  1.80s/it]\n"
     ]
    },
    {
     "name": "stdout",
     "output_type": "stream",
     "text": [
      "chunkadelic:\n",
      "   output_path = test_chunks\n",
      "   input_paths = ['examples/']\n",
      "   chunk_size  = 131072\n",
      "   norm        = global\n",
      "   spacing     = 0.5\n",
      "   sr          = 48000\n",
      "   strip       = False\n",
      "   thresh      = -70\n",
      "   workers     = 14\n",
      "   nomix       = False\n",
      "Getting list of input filenames\n",
      "  Got 2 input filenames\n",
      "Processing files (in parallel)\n",
      "Resampling examples/example.wav from 44100 Hz to 48000 Hz\n",
      "Finished\n",
      "\n",
      "-----\n",
      " norm = channel\n"
     ]
    },
    {
     "name": "stderr",
     "output_type": "stream",
     "text": [
      "100%|██████████| 2/2 [00:03<00:00,  1.80s/it]\n"
     ]
    },
    {
     "name": "stdout",
     "output_type": "stream",
     "text": [
      "chunkadelic:\n",
      "   output_path = test_chunks\n",
      "   input_paths = ['examples/']\n",
      "   chunk_size  = 131072\n",
      "   norm        = channel\n",
      "   spacing     = 0.5\n",
      "   sr          = 48000\n",
      "   strip       = False\n",
      "   thresh      = -70\n",
      "   workers     = 14\n",
      "   nomix       = False\n",
      "Getting list of input filenames\n",
      "  Got 2 input filenames\n",
      "Processing files (in parallel)\n",
      "Resampling examples/example.wav from 44100 Hz to 48000 Hz\n",
      "Finished\n",
      "\n"
     ]
    }
   ],
   "source": [
    "for norm in ['False', 'global','channel']:\n",
    "    print(\"-----\\n norm =\",norm)\n",
    "    result = subprocess.run(['chunkadelic', '--norm', norm, 'test_chunks','examples/'], stdout=subprocess.PIPE)\n",
    "    out = result.stdout.decode(\"utf-8\") \n",
    "    print(out)\n",
    "    assert 'error' not in out.lower(), f'Error occured while running with norm={norm}'  # for CI testing"
   ]
  },
  {
   "cell_type": "code",
   "execution_count": null,
   "id": "aa7864dd",
   "metadata": {},
   "outputs": [],
   "source": []
  }
 ],
 "metadata": {
  "kernelspec": {
   "display_name": "Python 3 (ipykernel)",
   "language": "python",
   "name": "python3"
  }
 },
 "nbformat": 4,
 "nbformat_minor": 5
}
