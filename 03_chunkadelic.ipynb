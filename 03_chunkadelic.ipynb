{
 "cells": [
  {
   "cell_type": "code",
   "execution_count": null,
   "id": "d404833b",
   "metadata": {},
   "outputs": [],
   "source": [
    "%load_ext autoreload\n",
    "%autoreload 2"
   ]
  },
  {
   "cell_type": "code",
   "execution_count": null,
   "id": "9d2cefc8",
   "metadata": {},
   "outputs": [],
   "source": [
    "#| default_exp chunkadelic"
   ]
  },
  {
   "cell_type": "markdown",
   "id": "5d79fbe5",
   "metadata": {},
   "source": [
    "# chunkadelic"
   ]
  },
  {
   "cell_type": "markdown",
   "id": "262d835a",
   "metadata": {},
   "source": [
    "\n",
    "> Console script and callable function for preprocessing dataset of disparate-sized audio files into uniform chunks\n",
    "\n",
    "Note: Duplicates the directory structure(s) referenced by input paths. "
   ]
  },
  {
   "cell_type": "code",
   "execution_count": null,
   "id": "0be2e849",
   "metadata": {},
   "outputs": [],
   "source": [
    "#|hide\n",
    "from nbdev.showdoc import *"
   ]
  },
  {
   "cell_type": "code",
   "execution_count": null,
   "id": "5df76a87",
   "metadata": {},
   "outputs": [],
   "source": [
    "#|export\n",
    "import argparse \n",
    "import os \n",
    "from functools import partial\n",
    "from tqdm.contrib.concurrent import process_map  \n",
    "import torch\n",
    "import torchaudio\n",
    "import math\n",
    "from aeiou.core import is_silence, load_audio, makedir, get_audio_filenames, normalize_audio, get_dbmax\n",
    "from aeiou.chunk_one_file import chunk_one_file\n",
    "import multiprocessing as mp\n",
    "from multiprocessing import Pool, cpu_count, Barrier"
   ]
  },
  {
   "cell_type": "code",
   "execution_count": null,
   "id": "519f8740",
   "metadata": {},
   "outputs": [],
   "source": [
    "#|export\n",
    "def blow_chunks(\n",
    "    audio:torch.tensor,  # long audio file to be chunked\n",
    "    new_filename:str,    # stem of new filename(s) to be output as chunks\n",
    "    chunk_size:int,      # how big each audio chunk is, in samples\n",
    "    sr=48000,            # audio sample rate in Hz\n",
    "    norm='False',      # normalize input audio, based on the max of the absolute value ['global','channel', or anything else for None, e.g. False]\n",
    "    spacing=0.5,         # fraction of each chunk to advance between hops\n",
    "    strip=False,    # strip silence: chunks with max power in dB below this value will not be saved to files\n",
    "    thresh=-70,      # threshold in dB for determining what counts as silence\n",
    "    debug=False,     # print debugging information \n",
    "    ):\n",
    "    \"chunks up the audio and saves them with --{i} on the end of each chunk filename\"\n",
    "    if (debug): print(f\"       blow_chunks: audio.shape = {audio.shape}\",flush=True)\n",
    "        \n",
    "    chunk = torch.zeros(audio.shape[0], chunk_size)\n",
    "    _, ext = os.path.splitext(new_filename)\n",
    "    \n",
    "    if norm in ['global','channel']:  audio = normalize_audio(audio, norm)     \n",
    "\n",
    "    spacing = 0.5 if spacing == 0 else spacing # handle degenerate case as a request for the defaults\n",
    "    \n",
    "    start, i = 0, 0\n",
    "    while start < audio.shape[-1]:\n",
    "        out_filename = new_filename.replace(ext, f'--{i}'+ext) \n",
    "        end = min(start + chunk_size, audio.shape[-1])\n",
    "        if end-start < chunk_size:  # needs zero padding on end\n",
    "            chunk = torch.zeros(audio.shape[0], chunk_size)\n",
    "        chunk[:,0:end-start] = audio[:,start:end]\n",
    "        if (not strip) or (not is_silence(chunk, thresh=thresh)):\n",
    "            torchaudio.save(out_filename, chunk, sr)\n",
    "        else:\n",
    "            print(f\"Skipping chunk {out_filename} because it's 'silent' (below threhold of {thresh} dB).\",flush=True)\n",
    "        start, i = start + int(spacing * chunk_size), i + 1\n",
    "    return "
   ]
  },
  {
   "cell_type": "code",
   "execution_count": null,
   "id": "2fc2b499",
   "metadata": {},
   "outputs": [],
   "source": [
    "#|export   \n",
    "def chunk_one_file(\n",
    "    filenames:list,      # list of filenames from which we'll pick one\n",
    "    args,                # output of argparse\n",
    "    file_ind             # index from filenames list to read from\n",
    "    ):\n",
    "    \"this chunks up one file by setting things up and then calling blow_chunks\"\n",
    "    filename = filenames[file_ind]  # this is actually input_path+/+filename\n",
    "    output_path, input_paths = args.output_path, args.input_paths\n",
    "    new_filename = None\n",
    "    if args.debug: print(f\" --- process_one_file: filenames[{file_ind}] = {filename}\\n\", flush=True)\n",
    "    \n",
    "    for ipath in input_paths: # set up the output filename & any folders it needs\n",
    "        if args.nomix and ('Mix' in ipath) and ('Audio Files' in ipath): return  # this is specific to the BDCT dataset, otherwise ignore\n",
    "        if ipath in filename:\n",
    "            last_ipath = ipath.split('/')[-1]           # get the last part of ipath\n",
    "            clean_filename = filename.replace(ipath,'') # remove all of ipath from the front of filename\n",
    "            new_filename = f\"{output_path}/{last_ipath}/{clean_filename}\".replace('//','/') \n",
    "            makedir(os.path.dirname(new_filename))      # we might need to make a directory for the output file\n",
    "            break\n",
    "\n",
    "    if new_filename is None:\n",
    "        print(f\"ERROR: Something went wrong with name of input file {filename}. Skipping.\",flush=True) \n",
    "        return \n",
    "    \n",
    "    try:\n",
    "        if args.debug: print(f\"   About to load filenames[{file_ind}] = {filename}\\n\", flush=True)\n",
    "        audio = load_audio(filename, sr=args.sr, verbose=args.debug)\n",
    "        if args.debug: print(f\"   We loaded the audio, audio.shape = {audio.shape}\\n   Calling blow_chunks...\", flush=True)\n",
    "        blow_chunks(audio, new_filename, args.chunk_size, sr=args.sr, spacing=args.spacing, strip=args.strip, thresh=args.thresh, debug=args.debug)\n",
    "    except Exception as e: \n",
    "        print(f\"Error '{e}' while loading {filename} or writing chunks. Skipping.\", flush=True)\n",
    "\n",
    "    if args.debug: print(f\" --- File {file_ind}: {filename} completed.\\n\", flush=True)\n",
    "    return"
   ]
  },
  {
   "cell_type": "markdown",
   "id": "f3c24fb9",
   "metadata": {},
   "source": [
    "Testing equential execution of for one file at a time, sequentially:"
   ]
  },
  {
   "cell_type": "code",
   "execution_count": null,
   "id": "208bdaac",
   "metadata": {},
   "outputs": [
    {
     "name": "stdout",
     "output_type": "stream",
     "text": [
      "filenames = ['examples/stereo_pewpew.mp3', 'examples/example.wav']\n",
      "file 1/2: examples/stereo_pewpew.mp3:\n",
      " --- process_one_file: filenames[0] = examples/stereo_pewpew.mp3\n",
      "\n",
      "   About to load filenames[0] = examples/stereo_pewpew.mp3\n",
      "\n",
      "Resampling examples/stereo_pewpew.mp3 from 44100.0 Hz to 48000 Hz\n",
      "   We loaded the audio, audio.shape = torch.Size([2, 236983])\n",
      "   Calling blow_chunks...\n",
      "       blow_chunks: audio.shape = torch.Size([2, 236983])\n",
      " --- File 0: examples/stereo_pewpew.mp3 completed.\n",
      "\n",
      "file 2/2: examples/example.wav:\n",
      " --- process_one_file: filenames[1] = examples/example.wav\n",
      "\n",
      "   About to load filenames[1] = examples/example.wav\n",
      "\n",
      "Resampling examples/example.wav from 44100 Hz to 48000 Hz\n",
      "   We loaded the audio, audio.shape = torch.Size([1, 55728])\n",
      "   Calling blow_chunks...\n",
      "       blow_chunks: audio.shape = torch.Size([1, 55728])\n",
      " --- File 1: examples/example.wav completed.\n",
      "\n"
     ]
    }
   ],
   "source": [
    "#| eval: false\n",
    "class AttrDict(dict): # cf. https://stackoverflow.com/a/14620633/4259243\n",
    "    \"setup an object to hold args\"\n",
    "    def __init__(self, *args, **kwargs):\n",
    "        super(AttrDict, self).__init__(*args, **kwargs)\n",
    "        self.__dict__ = self\n",
    "        \n",
    "args = AttrDict()  # setup something akin to what argparse gives\n",
    "args.update( {'output_path':'test_chunks', 'input_paths':['examples/'], 'sr':48000, 'chunk_size':131072, 'spacing':0.5,\n",
    "    'norm':'global', 'strip':False, 'thresh':-70, 'nomix':False, 'verbose':True,\n",
    "    'workers':min(32, os.cpu_count() + 4), 'debug':True })\n",
    "\n",
    "filenames = get_audio_filenames(args.input_paths)\n",
    "print(\"filenames =\",filenames)\n",
    "for i in range(len(filenames)):\n",
    "    print(f\"file {i+1}/{len(filenames)}: {filenames[i]}:\")\n",
    "    chunk_one_file(filenames, args, i)"
   ]
  },
  {
   "cell_type": "markdown",
   "id": "a0b0e456",
   "metadata": {},
   "source": [
    "The main executable `chunkadelic` does the same as the previous sequential execution, albeit in parallel. \n",
    "\n",
    "> Note: Restrictions in Python's `ProcessPoolExecutor` prevent directly invoking parallel execution of `chunk_one_file` while in interactive mode or inside a Jupyter notebook: You must use the CLI (or subprocess it). "
   ]
  },
  {
   "cell_type": "code",
   "execution_count": null,
   "id": "56e01f54",
   "metadata": {},
   "outputs": [],
   "source": [
    "#|export\n",
    "def main():\n",
    "    parser = argparse.ArgumentParser(formatter_class=argparse.ArgumentDefaultsHelpFormatter)\n",
    "    parser.add_argument('--chunk_size', type=int, default=2**17, help='Length of chunks')\n",
    "    parser.add_argument('--sr', type=int, default=48000, help='Output sample rate')\n",
    "    parser.add_argument('--norm', default='False', const='False', nargs='?', choices=['False', 'global', 'channel'],\n",
    "                   help='Normalize audio, based on the max of the absolute value [global/channel/False]')\n",
    "    parser.add_argument('--spacing', type=float, default=0.5, help='Spacing factor, advance this fraction of a chunk per copy')\n",
    "    parser.add_argument('--strip', action='store_true', help='Strips silence: chunks with max dB below <thresh> are not outputted')\n",
    "    parser.add_argument('--thresh', type=int, default=-70, help='threshold in dB for determining what constitutes silence')\n",
    "    parser.add_argument('--workers', type=int, default=min(32, os.cpu_count() + 4), help='Maximum number of workers to use (default: all)')\n",
    "    parser.add_argument('--nomix', action='store_true',  help='(BDCT Dataset specific) exclude output of \"*/Audio Files/*Mix*\"')\n",
    "    parser.add_argument('output_path', help='Path of output for chunkified data')\n",
    "    parser.add_argument('input_paths', nargs='+', help='Path(s) of a file or a folder of files. (recursive)')\n",
    "    parser.add_argument('--verbose', action='store_true',  help='Extra output logging')\n",
    "    parser.add_argument('--debug', action='store_true',  help='Extra EXTRA output logging')\n",
    "    args = parser.parse_args()\n",
    "   \n",
    "    if args.verbose: \n",
    "        print(\"chunkadelic: args = \",args)\n",
    "        print(\"Getting list of input filenames\")\n",
    "    filenames = get_audio_filenames(args.input_paths)\n",
    "    if args.verbose:\n",
    "        print(f\"  Got {len(filenames)} input filenames\") \n",
    "        if not (args.norm in ['global','channel']): \n",
    "            print(f\"Warning: since norm = {args.norm}, no normalizations will be performed.\")\n",
    "        print(\"Processing files (in parallel)...\")\n",
    "            \n",
    "    wrapper = partial(chunk_one_file, filenames, args)\n",
    "    r = process_map(wrapper, range(len(filenames)), chunksize=1, max_workers=args.workers)  # different chunksize used by tqdm. max_workers is to avoid annoying other ppl\n",
    "  \n",
    "    if args.verbose: print(\"Finished\")      "
   ]
  },
  {
   "cell_type": "code",
   "execution_count": null,
   "id": "1bf27260",
   "metadata": {},
   "outputs": [],
   "source": [
    "#| hide\n",
    "from nbdev import nbdev_export\n",
    "nbdev_export()"
   ]
  },
  {
   "cell_type": "code",
   "execution_count": null,
   "id": "af8472be",
   "metadata": {},
   "outputs": [
    {
     "name": "stdout",
     "output_type": "stream",
     "text": [
      "usage: chunkadelic [-h] [--chunk_size CHUNK_SIZE] [--sr SR]\r\n",
      "                   [--norm [{False,global,channel}]] [--spacing SPACING]\r\n",
      "                   [--strip] [--thresh THRESH] [--workers WORKERS] [--nomix]\r\n",
      "                   [--verbose] [--debug]\r\n",
      "                   output_path input_paths [input_paths ...]\r\n",
      "\r\n",
      "positional arguments:\r\n",
      "  output_path           Path of output for chunkified data\r\n",
      "  input_paths           Path(s) of a file or a folder of files. (recursive)\r\n",
      "\r\n",
      "optional arguments:\r\n",
      "  -h, --help            show this help message and exit\r\n",
      "  --chunk_size CHUNK_SIZE\r\n",
      "                        Length of chunks (default: 131072)\r\n",
      "  --sr SR               Output sample rate (default: 48000)\r\n",
      "  --norm [{False,global,channel}]\r\n",
      "                        Normalize audio, based on the max of the absolute\r\n",
      "                        value [global/channel/False] (default: False)\r\n",
      "  --spacing SPACING     Spacing factor, advance this fraction of a chunk per\r\n",
      "                        copy (default: 0.5)\r\n",
      "  --strip               Strips silence: chunks with max dB below <thresh> are\r\n",
      "                        not outputted (default: False)\r\n",
      "  --thresh THRESH       threshold in dB for determining what constitutes\r\n",
      "                        silence (default: -70)\r\n",
      "  --workers WORKERS     Maximum number of workers to use (default: all)\r\n",
      "                        (default: 32)\r\n",
      "  --nomix               (BDCT Dataset specific) exclude output of \"*/Audio\r\n",
      "                        Files/*Mix*\" (default: False)\r\n",
      "  --verbose             Extra output logging (default: False)\r\n",
      "  --debug               Extra EXTRA output logging (default: False)\r\n"
     ]
    }
   ],
   "source": [
    "#| eval: false\n",
    "! chunkadelic -h"
   ]
  },
  {
   "cell_type": "markdown",
   "id": "0ecd62d3",
   "metadata": {},
   "source": [
    "\n",
    "---\n",
    "Testing of CLI run:  (don't run this on GitHub CI or it will hang)"
   ]
  },
  {
   "cell_type": "code",
   "execution_count": null,
   "id": "b7ff61bf",
   "metadata": {},
   "outputs": [],
   "source": [
    "#| eval: false\n",
    "import subprocess"
   ]
  },
  {
   "cell_type": "code",
   "execution_count": null,
   "id": "9009283f",
   "metadata": {},
   "outputs": [
    {
     "name": "stdout",
     "output_type": "stream",
     "text": [
      "chunkadelic: running tests of normalizations:\n",
      "-----\n",
      " norm = False\n"
     ]
    },
    {
     "name": "stderr",
     "output_type": "stream",
     "text": [
      "100%|██████████| 2/2 [00:00<00:00,  3.28it/s]\n"
     ]
    },
    {
     "name": "stdout",
     "output_type": "stream",
     "text": [
      "\n",
      "-----\n",
      " norm = global\n"
     ]
    },
    {
     "name": "stderr",
     "output_type": "stream",
     "text": [
      "100%|██████████| 2/2 [00:00<00:00,  2.94it/s]\n"
     ]
    },
    {
     "name": "stdout",
     "output_type": "stream",
     "text": [
      "\n",
      "-----\n",
      " norm = channel\n"
     ]
    },
    {
     "name": "stderr",
     "output_type": "stream",
     "text": [
      "100%|██████████| 2/2 [00:00<00:00,  2.96it/s]\n"
     ]
    },
    {
     "name": "stdout",
     "output_type": "stream",
     "text": [
      "\n"
     ]
    }
   ],
   "source": [
    "#| eval: false\n",
    "print(\"chunkadelic: running tests of normalizations:\")\n",
    "for norm in ['False', 'global','channel']:\n",
    "    print(\"-----\\n norm =\",norm)\n",
    "    result = subprocess.run(['chunkadelic', '--norm', norm, 'test_chunks','examples/'], stdout=subprocess.PIPE)\n",
    "    out = result.stdout.decode(\"utf-8\") \n",
    "    print(out)\n",
    "    assert 'error' not in out.lower(), f'Error occured while running with norm={norm}'  # for CI testing"
   ]
  },
  {
   "cell_type": "code",
   "execution_count": null,
   "id": "7f793cd7",
   "metadata": {},
   "outputs": [],
   "source": []
  }
 ],
 "metadata": {
  "kernelspec": {
   "display_name": "Python 3 (ipykernel)",
   "language": "python",
   "name": "python3"
  }
 },
 "nbformat": 4,
 "nbformat_minor": 5
}
