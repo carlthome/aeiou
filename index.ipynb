{
 "cells": [
  {
   "cell_type": "code",
   "execution_count": null,
   "metadata": {},
   "outputs": [],
   "source": [
    "#|hide\n",
    "from aeiou.core import *"
   ]
  },
  {
   "cell_type": "markdown",
   "metadata": {},
   "source": [
    "# aeiou\n",
    "\n",
    "> audio engineering i/o utils."
   ]
  },
  {
   "cell_type": "markdown",
   "metadata": {},
   "source": [
    "Pronounced \"[ayoo](https://youtu.be/Hv6RbEOlqRo?t=24)\""
   ]
  },
  {
   "cell_type": "markdown",
   "metadata": {},
   "source": [
    "## Install"
   ]
  },
  {
   "cell_type": "markdown",
   "metadata": {},
   "source": [
    "We recommend you install the latest version from GitHub via \n",
    "\n",
    "```sh \n",
    "pip install git+https://github.com/drscotthawley/aeiou.git\n",
    "```\n",
    "However binaries will be occasionally updated on PyPI, installed via\n",
    "\n",
    "```sh\n",
    "pip install aeiou\n",
    "```"
   ]
  },
  {
   "cell_type": "markdown",
   "metadata": {},
   "source": [
    "## How to use"
   ]
  },
  {
   "cell_type": "markdown",
   "metadata": {},
   "source": [
    "This is a series of utility routines developed in support of multiple projects within [Harmonai](https://www.harmonai.org/).  See individual documentation pages for more specific instructions on how these can be used. "
   ]
  },
  {
   "cell_type": "code",
   "execution_count": null,
   "metadata": {},
   "outputs": [],
   "source": []
  }
 ],
 "metadata": {
  "kernelspec": {
   "display_name": "Python 3 (ipykernel)",
   "language": "python",
   "name": "python3"
  }
 },
 "nbformat": 4,
 "nbformat_minor": 4
}
