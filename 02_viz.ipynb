{
 "cells": [
  {
   "cell_type": "code",
   "execution_count": null,
   "id": "78b8f836",
   "metadata": {},
   "outputs": [],
   "source": [
    "%load_ext autoreload\n",
    "%autoreload 2"
   ]
  },
  {
   "cell_type": "code",
   "execution_count": null,
   "id": "a5e44029",
   "metadata": {},
   "outputs": [],
   "source": [
    "#| default_exp viz"
   ]
  },
  {
   "cell_type": "markdown",
   "id": "87e6686d",
   "metadata": {},
   "source": [
    "# viz\n",
    "\n",
    "> Vizualization routines\n",
    "\n",
    "Pretty much an exact dupe of https://github.com/zqevans/audio-diffusion/blob/main/viz/viz.py"
   ]
  },
  {
   "cell_type": "code",
   "execution_count": null,
   "id": "794a4d5e",
   "metadata": {},
   "outputs": [],
   "source": [
    "#|export \n",
    "import math\n",
    "from pathlib import Path\n",
    "from matplotlib.backends.backend_agg import FigureCanvasAgg\n",
    "import matplotlib.cm as cm\n",
    "import matplotlib.pyplot as plt \n",
    "from matplotlib.colors import Normalize\n",
    "from matplotlib.figure import Figure\n",
    "import numpy as np\n",
    "from PIL import Image\n",
    "\n",
    "import torch\n",
    "from torch import optim, nn\n",
    "from torch.nn import functional as F\n",
    "import torchaudio\n",
    "import torchaudio.transforms as T\n",
    "import librosa \n",
    "from einops import rearrange\n",
    "\n",
    "import wandb\n",
    "import numpy as np\n",
    "import pandas as pd"
   ]
  },
  {
   "cell_type": "code",
   "execution_count": null,
   "id": "904e5bfd",
   "metadata": {},
   "outputs": [],
   "source": [
    "#export\n",
    "def embeddings_table(tokens):\n",
    "    \"make a table of embeddings for use with wandb\"\n",
    "    features, labels = [], []\n",
    "    embeddings = rearrange(tokens, 'b d n -> b n d') # each demo sample is n vectors in d-dim space\n",
    "    for i in range(embeddings.size()[0]):  # nested for's are slow but sure ;-) \n",
    "        for j in range(embeddings.size()[1]):\n",
    "            features.append(embeddings[i,j].detach().cpu().numpy())\n",
    "            labels.append([f'demo{i}'])    # labels does the grouping / color for each point\n",
    "    features = np.array(features)\n",
    "    #print(\"\\nfeatures.shape = \",features.shape)\n",
    "    labels = np.concatenate(labels, axis=0)\n",
    "    cols = [f\"dim_{i}\" for i in range(features.shape[1])]\n",
    "    df   = pd.DataFrame(features, columns=cols)\n",
    "    df['LABEL'] = labels\n",
    "    return wandb.Table(columns=df.columns.to_list(), data=df.values)"
   ]
  },
  {
   "cell_type": "code",
   "execution_count": null,
   "id": "829e15b2",
   "metadata": {},
   "outputs": [],
   "source": [
    "#export\n",
    "def proj_pca(tokens, proj_dims=3):\n",
    "    \"this projects via PCA, grabbing the first _3_ dimensions\"\n",
    "    A = rearrange(tokens, 'b d n -> (b n) d') # put all the vectors into the same d-dim space\n",
    "    if A.shape[-1] > proj_dims: \n",
    "        k = proj_dims\n",
    "        (U, S, V) = torch.pca_lowrank(A)\n",
    "        proj_data = torch.matmul(A, V[:, :k])  # this is the actual PCA projection step\n",
    "    else:\n",
    "        proj_data = A\n",
    "    return torch.reshape(proj_data, (tokens.size()[0], -1, proj_dims)) # put it in shape [batch, n, 3]"
   ]
  },
  {
   "cell_type": "code",
   "execution_count": null,
   "id": "67a1224f",
   "metadata": {},
   "outputs": [],
   "source": [
    "#export\n",
    "def pca_point_cloud(tokens, color_scheme='batch'):\n",
    "    \"produces a 3D wandb point cloud of the tokens using PCA. tokens has shape (b, d, n)\"\n",
    "    data = proj_pca(tokens).cpu().numpy()\n",
    "    points = []\n",
    "    if color_scheme=='batch':\n",
    "        cmap, norm = cm.tab20, Normalize(vmin=0, vmax=data.shape[0])\n",
    "    else: \n",
    "        cmap, norm = cm.viridis, Normalize(vmin=0, vmax=data.shape[1])\n",
    "    print(\"   pca_point_cloud: data.shape = \",data.shape)\n",
    "    for bi in range(data.shape[0]):  # batch index\n",
    "        if color_scheme=='batch': [r, g, b, _] = [int(255*x) for x in cmap(norm(bi))] \n",
    "        for n in range(data.shape[1]):\n",
    "            if color_scheme!='batch': [r, g, b, _] = [int(255*x) for x in cmap(norm(n))] \n",
    "            #print(f\"  {data[bi,n,0]}, {data[bi,n,1]}, {data[bi,n,2]}, {r}, {g}, {b}\")\n",
    "            points.append([data[bi,n,0], data[bi,n,1], data[bi,n,2], r, g, b])\n",
    "\n",
    "    point_cloud = np.array(points)\n",
    "    print(\"   pca_point_cloud: point_cloud.shape = \",point_cloud.shape)\n",
    "    return wandb.Object3D(point_cloud)"
   ]
  },
  {
   "cell_type": "code",
   "execution_count": null,
   "id": "05939e9a",
   "metadata": {},
   "outputs": [],
   "source": [
    "#|export\n",
    "def print_stats(waveform, sample_rate=None, src=None, print=print):\n",
    "    \"print stats about waveform. Taken verbatim from pytorch docs.\"\n",
    "    if src:\n",
    "        print(f\"-\" * 10)\n",
    "        print(f\"Source: {src}\")\n",
    "        print(f\"-\" * 10)\n",
    "    if sample_rate:\n",
    "        print(f\"Sample Rate: {sample_rate}\")\n",
    "    print(f\"Shape: {tuple(waveform.shape)}\")\n",
    "    print(f\"Dtype: {waveform.dtype}\")\n",
    "    print(f\" - Max:     {waveform.max().item():6.3f}\")\n",
    "    print(f\" - Min:     {waveform.min().item():6.3f}\")\n",
    "    print(f\" - Mean:    {waveform.mean().item():6.3f}\")\n",
    "    print(f\" - Std Dev: {waveform.std().item():6.3f}\")\n",
    "    print('')\n",
    "    print(f\"{waveform}\")\n",
    "    print('')"
   ]
  },
  {
   "cell_type": "code",
   "execution_count": null,
   "id": "5201ccce",
   "metadata": {},
   "outputs": [],
   "source": [
    "#|export\n",
    "def spectrogram_image(spec, title=None, ylabel='freq_bin', aspect='auto', xmax=None, db_range=[-60,20], justimage=False):\n",
    "    \"Modified from PyTorch tutorial https://pytorch.org/tutorials/beginner/audio_feature_extractions_tutorial.html\"\n",
    "    fig = Figure(figsize=(5, 4), dpi=100) if not justimage else Figure(figsize=(4.145, 4.145), dpi=100, tight_layout=True)\n",
    "    canvas = FigureCanvasAgg(fig)\n",
    "    axs = fig.add_subplot()\n",
    "    im = axs.imshow(librosa.power_to_db(spec), origin='lower', aspect=aspect, vmin=db_range[0], vmax=db_range[1])\n",
    "    if xmax:\n",
    "        axs.set_xlim((0, xmax))\n",
    "    if justimage:\n",
    "        axs.axis('off')\n",
    "        plt.tight_layout()\n",
    "    else: \n",
    "        axs.set_ylabel(ylabel)\n",
    "        axs.set_xlabel('frame')\n",
    "        axs.set_title(title or 'Spectrogram (dB)')\n",
    "        fig.colorbar(im, ax=axs)\n",
    "    canvas.draw()\n",
    "    rgba = np.asarray(canvas.buffer_rgba())\n",
    "    im = Image.fromarray(rgba)\n",
    "    if justimage: # remove tiny white border\n",
    "        b = 15 # border size \n",
    "        im = im.crop((b,b, im.size[0]-b, im.size[1]-b))\n",
    "        #print(f\"im.size = {im.size}\")\n",
    "    return im"
   ]
  },
  {
   "cell_type": "code",
   "execution_count": null,
   "id": "f8b79319",
   "metadata": {},
   "outputs": [],
   "source": [
    "#export\n",
    "def audio_spectrogram_image(waveform, power=2.0, sample_rate=48000, print=print, db_range=[-60,20], justimage=False, log=False):\n",
    "    \"Modified from PyTorch tutorial https://pytorch.org/tutorials/beginner/audio_feature_extractions_tutorial.html\"\n",
    "    n_fft = 1024\n",
    "    win_length = None\n",
    "    hop_length = n_fft//2 # 512\n",
    "    n_mels = 128\n",
    "\n",
    "    mel_spectrogram_op = T.MelSpectrogram(\n",
    "        sample_rate=sample_rate, n_fft=n_fft, win_length=win_length, \n",
    "        hop_length=hop_length, center=True, pad_mode=\"reflect\", power=power, \n",
    "        norm='slaney', onesided=True, n_mels=n_mels, mel_scale=\"htk\")\n",
    "\n",
    "    melspec = mel_spectrogram_op(waveform.float())\n",
    "    if log:\n",
    "        print_stats(melspec, print=print)\n",
    "        print(f\"torch.max(melspec) = {torch.max(melspec)}\")\n",
    "        print(f\"melspec.shape = {melspec.shape}\")\n",
    "    melspec = melspec[0] # TODO: only left channel for now\n",
    "    return spectrogram_image(melspec, title=\"MelSpectrogram\", ylabel='mel bins (log freq)', db_range=db_range, justimage=justimage)"
   ]
  },
  {
   "cell_type": "markdown",
   "id": "f84c596c",
   "metadata": {},
   "source": [
    "Let's test the above routine"
   ]
  },
  {
   "cell_type": "code",
   "execution_count": null,
   "id": "f9526c9c",
   "metadata": {},
   "outputs": [
    {
     "name": "stdout",
     "output_type": "stream",
     "text": [
      "Resampling examples/example.wav from 44100 Hz to 48000 Hz\n"
     ]
    },
    {
     "name": "stderr",
     "output_type": "stream",
     "text": [
      "/home/shawley/envs/aeiou/lib/python3.10/site-packages/torchaudio/functional/functional.py:539: UserWarning: At least one mel filterbank has all zero values. The value for `n_mels` (128) may be set too high. Or, the value for `n_freqs` (513) may be set too low.\n",
      "  warnings.warn(\n"
     ]
    },
    {
     "data": {
      "image/png": "[encoded data removed]",
      "text/plain": [
       "<PIL.Image.Image image mode=RGBA size=384x384>"
      ]
     },
     "metadata": {},
     "output_type": "display_data"
    },
    {
     "data": {
      "text/plain": [
       "<Figure size 432x288 with 0 Axes>"
      ]
     },
     "metadata": {},
     "output_type": "display_data"
    }
   ],
   "source": [
    "#|slow\n",
    "if True:\n",
    "    from aeiou.core import load_audio\n",
    "    from IPython.display import display # to display images\n",
    "\n",
    "    audio_filename = 'examples/example.wav'\n",
    "    waveform = load_audio(audio_filename)\n",
    "    spec_graph = audio_spectrogram_image(waveform, justimage=True)\n",
    "    display(spec_graph)"
   ]
  },
  {
   "cell_type": "code",
   "execution_count": null,
   "id": "c189ed8e",
   "metadata": {},
   "outputs": [],
   "source": [
    "#|export\n",
    "def tokens_spectrogram_image(tokens, aspect='auto', title='Embeddings', ylabel='index'):\n",
    "    embeddings = rearrange(tokens, 'b d n -> (b n) d') \n",
    "    print(f\"tokens_spectrogram_image: embeddings.shape = \",embeddings.shape)\n",
    "    fig = Figure(figsize=(10, 4), dpi=100)\n",
    "    canvas = FigureCanvasAgg(fig)\n",
    "    axs = fig.add_subplot()\n",
    "    axs.set_title(title or 'Embeddings')\n",
    "    axs.set_ylabel(ylabel)\n",
    "    axs.set_xlabel('time frame')\n",
    "    im = axs.imshow(embeddings.cpu().numpy().T, origin='lower', aspect=aspect, interpolation='none') #.T because numpy is x/y 'backwards'\n",
    "    fig.colorbar(im, ax=axs)\n",
    "    canvas.draw()\n",
    "    rgba = np.asarray(canvas.buffer_rgba())\n",
    "    return Image.fromarray(rgba)"
   ]
  },
  {
   "cell_type": "code",
   "execution_count": null,
   "id": "38f21a63",
   "metadata": {},
   "outputs": [],
   "source": [
    "#|export\n",
    "def plot_jukebox_embeddings(zs, aspect='auto'):\n",
    "    fig, ax = plt.subplots(nrows=len(zs))\n",
    "    for i, z in enumerate(zs):\n",
    "        #z = torch.squeeze(z)\n",
    "        z = z.cpu().numpy()\n",
    "        x = np.arange(z.shape[-1])\n",
    "        im = ax[i].imshow(z, origin='lower', aspect=aspect, interpolation='none')\n",
    "\n",
    "    #plt.legend()\n",
    "    plt.ylabel(\"emb (top=fine, bottom=coarse)\")\n",
    "    return {\"chart\": plt}"
   ]
  },
  {
   "cell_type": "code",
   "execution_count": null,
   "id": "77d6895e",
   "metadata": {},
   "outputs": [],
   "source": [
    "#| hide\n",
    "from nbdev import nbdev_export\n",
    "nbdev_export()"
   ]
  },
  {
   "cell_type": "code",
   "execution_count": null,
   "id": "40b80f01",
   "metadata": {},
   "outputs": [],
   "source": []
  }
 ],
 "metadata": {
  "kernelspec": {
   "display_name": "Python 3 (ipykernel)",
   "language": "python",
   "name": "python3"
  }
 },
 "nbformat": 4,
 "nbformat_minor": 5
}
